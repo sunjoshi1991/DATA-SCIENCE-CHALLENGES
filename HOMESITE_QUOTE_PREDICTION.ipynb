{
 "cells": [
  {
   "cell_type": "code",
   "execution_count": 38,
   "metadata": {},
   "outputs": [],
   "source": [
    "### import modules\n",
    "import pandas as pd\n",
    "from pandas import Series, DataFrame\n",
    "import numpy as np\n",
    "import matplotlib.pyplot as plt\n",
    "import seaborn as sns\n",
    "sns.set_style('whitegrid')\n",
    "%matplotlib inline\n",
    "from sklearn.linear_model import LogisticRegression\n",
    "from sklearn.svm import SVC, LinearSVC\n",
    "from sklearn.ensemble import RandomForestClassifier\n",
    "from sklearn.neighbors import KNeighborsClassifier\n",
    "from sklearn.naive_bayes import GaussianNB\n",
    "import xgboost as xgb\n",
    "\n"
   ]
  },
  {
   "cell_type": "code",
   "execution_count": 50,
   "metadata": {},
   "outputs": [
    {
     "name": "stdout",
     "output_type": "stream",
     "text": [
      "<class 'pandas.core.frame.DataFrame'>\n",
      "RangeIndex: 260753 entries, 0 to 260752\n",
      "Columns: 299 entries, QuoteNumber to GeographicField64\n",
      "dtypes: float64(6), int64(265), object(28)\n",
      "memory usage: 594.8+ MB\n",
      "None\n",
      "<class 'pandas.core.frame.DataFrame'>\n",
      "RangeIndex: 173836 entries, 0 to 173835\n",
      "Columns: 298 entries, QuoteNumber to GeographicField64\n",
      "dtypes: float64(6), int64(264), object(28)\n",
      "memory usage: 395.2+ MB\n",
      "None\n",
      "   QuoteNumber Original_Quote_Date  QuoteConversion_Flag Field6  Field7  \\\n",
      "0            1          2013-08-16                     0      B      23   \n",
      "1            2          2014-04-22                     0      F       7   \n",
      "2            4          2014-08-25                     0      F       7   \n",
      "3            6          2013-04-15                     0      J      10   \n",
      "4            8          2014-01-25                     0      E      23   \n",
      "\n",
      "   Field8  Field9 Field10  Field11 Field12  ...  GeographicField59A  \\\n",
      "0  0.9403  0.0006     965   1.0200       N  ...                   9   \n",
      "1  1.0006  0.0040     548   1.2433       N  ...                  10   \n",
      "2  1.0006  0.0040     548   1.2433       N  ...                  15   \n",
      "3  0.9769  0.0004   1,165   1.2665       N  ...                   6   \n",
      "4  0.9472  0.0006   1,487   1.3045       N  ...                  18   \n",
      "\n",
      "   GeographicField59B  GeographicField60A  GeographicField60B  \\\n",
      "0                   9                  -1                   8   \n",
      "1                  10                  -1                  11   \n",
      "2                  18                  -1                  21   \n",
      "3                   5                  -1                  10   \n",
      "4                  22                  -1                  10   \n",
      "\n",
      "   GeographicField61A  GeographicField61B  GeographicField62A  \\\n",
      "0                  -1                  18                  -1   \n",
      "1                  -1                  17                  -1   \n",
      "2                  -1                  11                  -1   \n",
      "3                  -1                   9                  -1   \n",
      "4                  -1                  11                  -1   \n",
      "\n",
      "   GeographicField62B  GeographicField63  GeographicField64  \n",
      "0                  10                  N                 CA  \n",
      "1                  20                  N                 NJ  \n",
      "2                   8                  N                 NJ  \n",
      "3                  21                  N                 TX  \n",
      "4                  12                  N                 IL  \n",
      "\n",
      "[5 rows x 299 columns]\n",
      "   QuoteNumber Original_Quote_Date Field6  Field7  Field8  Field9 Field10  \\\n",
      "0            3          2014-08-12      E      16  0.9364  0.0006   1,487   \n",
      "1            5          2013-09-07      F      11  0.9919  0.0038     564   \n",
      "2            7          2013-03-29      F      15  0.8945  0.0038     564   \n",
      "3            9          2015-03-21      K      21  0.8870  0.0004   1,113   \n",
      "4           10          2014-12-10      B      25  0.9153  0.0007     935   \n",
      "\n",
      "   Field11 Field12  CoverageField1A  ...  GeographicField59A  \\\n",
      "0   1.3045       N                4  ...                   1   \n",
      "1   1.1886       N                8  ...                  10   \n",
      "2   1.0670       N               11  ...                  10   \n",
      "3   1.2665       Y               14  ...                   8   \n",
      "4   1.0200       N                4  ...                   7   \n",
      "\n",
      "   GeographicField59B  GeographicField60A  GeographicField60B  \\\n",
      "0                   1                  -1                   1   \n",
      "1                  10                  -1                   5   \n",
      "2                  11                  -1                  20   \n",
      "3                   8                  -1                  13   \n",
      "4                   7                  -1                   3   \n",
      "\n",
      "   GeographicField61A  GeographicField61B  GeographicField62A  \\\n",
      "0                  -1                  20                  -1   \n",
      "1                  -1                   5                  -1   \n",
      "2                  -1                  22                  -1   \n",
      "3                  -1                   8                  -1   \n",
      "4                  -1                  22                  -1   \n",
      "\n",
      "   GeographicField62B  GeographicField63  GeographicField64  \n",
      "0                  25                  Y                 IL  \n",
      "1                  21                  N                 NJ  \n",
      "2                  11                  N                 NJ  \n",
      "3                  21                  N                 TX  \n",
      "4                  21                  N                 CA  \n",
      "\n",
      "[5 rows x 298 columns]\n"
     ]
    }
   ],
   "source": [
    "### read data\n",
    "train_df = pd.read_csv('train.csv')\n",
    "test_df = pd.read_csv('test.csv')\n",
    "\n",
    "print(train_df.info())\n",
    "print(test_df.info())\n",
    "\n",
    "print(train_df.head())\n",
    "print(test_df.head())\n"
   ]
  },
  {
   "cell_type": "code",
   "execution_count": 40,
   "metadata": {},
   "outputs": [],
   "source": [
    "### drop quote column\n",
    "train_df = train_df.drop(['QuoteNumber'],axis = 1)\n"
   ]
  },
  {
   "cell_type": "code",
   "execution_count": 41,
   "metadata": {},
   "outputs": [],
   "source": [
    "### convert date column to year, month and week\n",
    "train_df['year'] = train_df['Original_Quote_Date'].apply(lambda x : int(str(x)[:4]))\n",
    "train_df['month'] = train_df['Original_Quote_Date'].apply(lambda x : int(str(x)[5:7]))\n",
    "train_df['week']  = train_df['Original_Quote_Date'].apply(lambda x : int(str(x)[8:10]))\n",
    "\n",
    "### do same for test data\n",
    "test_df['year'] = test_df['Original_Quote_Date'].apply(lambda x : int(str(x)[:4]))\n",
    "test_df['month'] = test_df['Original_Quote_Date'].apply(lambda x : int(str(x)[5:7]))\n",
    "test_df['week']  = test_df['Original_Quote_Date'].apply(lambda x : int(str(x)[8:10]))\n",
    "\n",
    "\n",
    "### drop the date column as we already have year, month, week\n",
    "train_df.drop(['Original_Quote_Date'],axis = 1, inplace = True)\n",
    "test_df.drop(['Original_Quote_Date'],axis = 1, inplace = True)\n",
    "    "
   ]
  },
  {
   "cell_type": "code",
   "execution_count": 42,
   "metadata": {},
   "outputs": [
    {
     "name": "stdout",
     "output_type": "stream",
     "text": [
      "   QuoteConversion_Flag Field6  Field7  Field8  Field9 Field10  Field11  \\\n",
      "0                     0      B      23  0.9403  0.0006     965   1.0200   \n",
      "1                     0      F       7  1.0006  0.0040     548   1.2433   \n",
      "2                     0      F       7  1.0006  0.0040     548   1.2433   \n",
      "3                     0      J      10  0.9769  0.0004   1,165   1.2665   \n",
      "4                     0      E      23  0.9472  0.0006   1,487   1.3045   \n",
      "\n",
      "  Field12  CoverageField1A  CoverageField1B  ...  GeographicField60B  \\\n",
      "0       N               17               23  ...                   8   \n",
      "1       N                6                8  ...                  11   \n",
      "2       N                7               12  ...                  21   \n",
      "3       N                3                2  ...                  10   \n",
      "4       N                8               13  ...                  10   \n",
      "\n",
      "   GeographicField61A  GeographicField61B  GeographicField62A  \\\n",
      "0                  -1                  18                  -1   \n",
      "1                  -1                  17                  -1   \n",
      "2                  -1                  11                  -1   \n",
      "3                  -1                   9                  -1   \n",
      "4                  -1                  11                  -1   \n",
      "\n",
      "   GeographicField62B  GeographicField63  GeographicField64  year  month  week  \n",
      "0                  10                  N                 CA  2013      8    16  \n",
      "1                  20                  N                 NJ  2014      4    22  \n",
      "2                   8                  N                 NJ  2014      8    25  \n",
      "3                  21                  N                 TX  2013      4    15  \n",
      "4                  12                  N                 IL  2014      1    25  \n",
      "\n",
      "[5 rows x 300 columns]\n",
      "   QuoteNumber Field6  Field7  Field8  Field9 Field10  Field11 Field12  \\\n",
      "0            3      E      16  0.9364  0.0006   1,487   1.3045       N   \n",
      "1            5      F      11  0.9919  0.0038     564   1.1886       N   \n",
      "2            7      F      15  0.8945  0.0038     564   1.0670       N   \n",
      "3            9      K      21  0.8870  0.0004   1,113   1.2665       Y   \n",
      "4           10      B      25  0.9153  0.0007     935   1.0200       N   \n",
      "\n",
      "   CoverageField1A  CoverageField1B  ...  GeographicField60B  \\\n",
      "0                4                4  ...                   1   \n",
      "1                8               14  ...                   5   \n",
      "2               11               18  ...                  20   \n",
      "3               14               22  ...                  13   \n",
      "4                4                5  ...                   3   \n",
      "\n",
      "   GeographicField61A  GeographicField61B  GeographicField62A  \\\n",
      "0                  -1                  20                  -1   \n",
      "1                  -1                   5                  -1   \n",
      "2                  -1                  22                  -1   \n",
      "3                  -1                   8                  -1   \n",
      "4                  -1                  22                  -1   \n",
      "\n",
      "   GeographicField62B  GeographicField63  GeographicField64  year  month  week  \n",
      "0                  25                  Y                 IL  2014      8    12  \n",
      "1                  21                  N                 NJ  2013      9     7  \n",
      "2                  11                  N                 NJ  2013      3    29  \n",
      "3                  21                  N                 TX  2015      3    21  \n",
      "4                  21                  N                 CA  2014     12    10  \n",
      "\n",
      "[5 rows x 300 columns]\n"
     ]
    }
   ],
   "source": [
    "print(train_df.head())\n",
    "print(test_df.head())"
   ]
  },
  {
   "cell_type": "code",
   "execution_count": 43,
   "metadata": {},
   "outputs": [
    {
     "data": {
      "text/plain": [
       "<matplotlib.axes._subplots.AxesSubplot at 0x120106d30>"
      ]
     },
     "execution_count": 43,
     "metadata": {},
     "output_type": "execute_result"
    },
    {
     "data": {
      "image/png": "[encoded data removed]",
      "text/plain": [
       "<Figure size 432x288 with 1 Axes>"
      ]
     },
     "metadata": {
      "needs_background": "light"
     },
     "output_type": "display_data"
    }
   ],
   "source": [
    "### cusotmera who purchased plan\n",
    "sns.countplot(x = 'QuoteConversion_Flag', data = train_df)"
   ]
  },
  {
   "cell_type": "markdown",
   "metadata": {},
   "source": [
    "# we see that no.of people who purcahsed the plan are 25% of who have not purchased\n"
   ]
  },
  {
   "cell_type": "code",
   "execution_count": 44,
   "metadata": {},
   "outputs": [
    {
     "data": {
      "text/plain": [
       "<matplotlib.axes._subplots.AxesSubplot at 0x1203655c0>"
      ]
     },
     "execution_count": 44,
     "metadata": {},
     "output_type": "execute_result"
    },
    {
     "data": {
      "image/png": "[encoded data removed]",
      "text/plain": [
       "<Figure size 1080x360 with 2 Axes>"
      ]
     },
     "metadata": {
      "needs_background": "light"
     },
     "output_type": "display_data"
    }
   ],
   "source": [
    "### to check which year has highest num of purchases\n",
    "\n",
    "fig, (ax1,ax2) = plt.subplots(1,2,figsize=(15,5))\n",
    "\n",
    "sns.countplot(x = 'QuoteConversion_Flag', hue = 'year',data = train_df, ax = ax1)\n",
    "sns.countplot(x = train_df['year'].loc[train_df['QuoteConversion_Flag']==1], order = [2013,2014,2015], ax = ax2)"
   ]
  },
  {
   "cell_type": "markdown",
   "metadata": {},
   "source": [
    "# from fig it is evident that no.of purcahse have decreased from 2013-2015 (flag==1), and there is a huge dip in year 2015"
   ]
  },
  {
   "cell_type": "code",
   "execution_count": 45,
   "metadata": {},
   "outputs": [
    {
     "data": {
      "text/plain": [
       "<matplotlib.axes._subplots.AxesSubplot at 0x128a130f0>"
      ]
     },
     "execution_count": 45,
     "metadata": {},
     "output_type": "execute_result"
    },
    {
     "data": {
      "image/png": "[encoded data removed]",
      "text/plain": [
       "<Figure size 432x288 with 1 Axes>"
      ]
     },
     "metadata": {
      "needs_background": "light"
     },
     "output_type": "display_data"
    }
   ],
   "source": [
    "### purcahses month wise \n",
    "sns.countplot(x = train_df['month'].loc[train_df['QuoteConversion_Flag']==1],order = [1,2,3,4,5,6,7,8,9,10,11,12])\n"
   ]
  },
  {
   "cell_type": "code",
   "execution_count": 46,
   "metadata": {},
   "outputs": [],
   "source": [
    "### fill na values and replace convert non-numeric to label encoding\n",
    "from sklearn import preprocessing\n",
    "train_df.fillna(-1,inplace = True)\n",
    "test_df.fillna(-1,inplace=True)\n",
    "\n",
    "for i in train_df.columns:\n",
    "    if train_df[i].dtype=='object':\n",
    "        label = preprocessing.LabelEncoder()\n",
    "        label.fit(np.unique(list(train_df[i].values)+list(test_df[i].values)))\n",
    "        train_df[i] = label.transform(list(train_df[i].values))\n",
    "        test_df[i] = label.transform(list(test_df[i].values))\n",
    "        \n"
   ]
  },
  {
   "cell_type": "code",
   "execution_count": 47,
   "metadata": {},
   "outputs": [],
   "source": [
    "### train and test sets\n",
    "X_train = train_df.drop('QuoteConversion_Flag', axis =1)\n",
    "y_train = train_df['QuoteConversion_Flag']\n",
    "X_test = test_df.drop('QuoteNumber',axis=1).copy()\n",
    "\n"
   ]
  },
  {
   "cell_type": "code",
   "execution_count": 49,
   "metadata": {},
   "outputs": [],
   "source": [
    "### build the model using xgboost\n",
    "params = {'objective':'binary:logistic'}\n",
    "xgb_train = xgb.DMatrix(X_train,y_train)\n",
    "xgb_test = xgb.DMatrix(X_test)\n",
    "\n",
    "gbm = xgb.train(params,xgb_train,20)\n"
   ]
  },
  {
   "cell_type": "code",
   "execution_count": 64,
   "metadata": {},
   "outputs": [
    {
     "data": {
      "text/plain": [
       "array([0.00245105, 0.05278962, 0.05419005, 0.02995576, 0.27103174,\n",
       "       0.04929658, 0.00136799, 0.04854896, 0.00151112, 0.0011424 ,\n",
       "       0.05729706, 0.22471552, 0.00151112, 0.26667064, 0.10964268,\n",
       "       0.07636706, 0.00202381, 0.00146573, 0.10669678, 0.09948578,\n",
       "       0.09550878, 0.17474727, 0.10679758, 0.12246714, 0.661015  ,\n",
       "       0.5797325 , 0.9934024 , 0.04202881, 0.00136799, 0.04691126,\n",
       "       0.385158  , 0.17877382, 0.00151112, 0.48531902, 0.00205886,\n",
       "       0.03643474, 0.34321928, 0.2569052 , 0.02585182, 0.48745596,\n",
       "       0.87792844, 0.05426774, 0.03103027, 0.00323969, 0.20911673,\n",
       "       0.09570615, 0.02760759, 0.00151112, 0.99083626, 0.00268052,\n",
       "       0.27588767, 0.08498015, 0.06545907, 0.08218104, 0.00547024,\n",
       "       0.23827454, 0.04419059, 0.08103812, 0.00958243, 0.06404086,\n",
       "       0.00139776, 0.00136799, 0.23833895, 0.00147961, 0.002168  ,\n",
       "       0.00136799, 0.03982519, 0.09537549, 0.9900686 , 0.04022865,\n",
       "       0.02145153, 0.2860816 , 0.00136799, 0.01303414, 0.0019217 ,\n",
       "       0.6575328 , 0.00245062, 0.0178125 , 0.00244099, 0.21312484,\n",
       "       0.5412207 , 0.99206334, 0.06102267, 0.8536014 , 0.00686027,\n",
       "       0.00287264, 0.00266036, 0.00110503, 0.08052092, 0.9289677 ,\n",
       "       0.00228942, 0.61880195, 0.12661001, 0.00794431, 0.03946755,\n",
       "       0.00116768, 0.475909  , 0.06540014, 0.00224324, 0.00110503],\n",
       "      dtype=float32)"
      ]
     },
     "execution_count": 64,
     "metadata": {},
     "output_type": "execute_result"
    }
   ],
   "source": [
    "y_pred = gbm.predict(xgb_test)\n",
    "y_pred[:100]"
   ]
  },
  {
   "cell_type": "code",
   "execution_count": null,
   "metadata": {},
   "outputs": [],
   "source": []
  },
  {
   "cell_type": "code",
   "execution_count": null,
   "metadata": {},
   "outputs": [],
   "source": []
  },
  {
   "cell_type": "code",
   "execution_count": null,
   "metadata": {},
   "outputs": [],
   "source": []
  },
  {
   "cell_type": "code",
   "execution_count": null,
   "metadata": {},
   "outputs": [],
   "source": []
  },
  {
   "cell_type": "code",
   "execution_count": null,
   "metadata": {},
   "outputs": [],
   "source": []
  },
  {
   "cell_type": "code",
   "execution_count": null,
   "metadata": {},
   "outputs": [],
   "source": []
  },
  {
   "cell_type": "code",
   "execution_count": null,
   "metadata": {},
   "outputs": [],
   "source": []
  },
  {
   "cell_type": "code",
   "execution_count": null,
   "metadata": {},
   "outputs": [],
   "source": []
  },
  {
   "cell_type": "code",
   "execution_count": null,
   "metadata": {},
   "outputs": [],
   "source": []
  },
  {
   "cell_type": "code",
   "execution_count": null,
   "metadata": {},
   "outputs": [],
   "source": []
  },
  {
   "cell_type": "code",
   "execution_count": null,
   "metadata": {},
   "outputs": [],
   "source": []
  },
  {
   "cell_type": "code",
   "execution_count": null,
   "metadata": {},
   "outputs": [],
   "source": []
  },
  {
   "cell_type": "code",
   "execution_count": null,
   "metadata": {},
   "outputs": [],
   "source": []
  }
 ],
 "metadata": {
  "kernelspec": {
   "display_name": "Python 3",
   "language": "python",
   "name": "python3"
  },
  "language_info": {
   "codemirror_mode": {
    "name": "ipython",
    "version": 3
   },
   "file_extension": ".py",
   "mimetype": "text/x-python",
   "name": "python",
   "nbconvert_exporter": "python",
   "pygments_lexer": "ipython3",
   "version": "3.7.2"
  }
 },
 "nbformat": 4,
 "nbformat_minor": 2
}
