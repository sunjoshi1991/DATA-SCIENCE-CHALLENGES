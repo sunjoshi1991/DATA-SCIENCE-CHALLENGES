{
 "cells": [
  {
   "cell_type": "code",
   "execution_count": 64,
   "metadata": {},
   "outputs": [],
   "source": [
    "### import required modules\n",
    "#!pip3 install xgboost\n",
    "import pandas as pd\n",
    "import numpy as np\n",
    "import itertools\n",
    "import matplotlib.pyplot as plt\n",
    "plt.style.use('ggplot')\n",
    "%matplotlib inline\n",
    "from sklearn.feature_selection import chi2,f_classif\n",
    "from sklearn.preprocessing import LabelEncoder\n",
    "from sklearn.metrics import classification_report, roc_curve,precision_score,recall_score,auc,precision_recall_curve\n",
    "from sklearn.model_selection import train_test_split\n",
    "import xgboost as xgb\n",
    "\n"
   ]
  },
  {
   "cell_type": "code",
   "execution_count": 44,
   "metadata": {},
   "outputs": [],
   "source": [
    "## read email data\n",
    "emails = pd.read_csv('email_table.csv',index_col = 'email_id')"
   ]
  },
  {
   "cell_type": "code",
   "execution_count": 45,
   "metadata": {},
   "outputs": [
    {
     "name": "stdout",
     "output_type": "stream",
     "text": [
      "<class 'pandas.core.frame.DataFrame'>\n",
      "Int64Index: 100000 entries, 85120 to 348333\n",
      "Data columns (total 6 columns):\n",
      "email_text             100000 non-null object\n",
      "email_version          100000 non-null object\n",
      "hour                   100000 non-null int64\n",
      "weekday                100000 non-null object\n",
      "user_country           100000 non-null object\n",
      "user_past_purchases    100000 non-null int64\n",
      "dtypes: int64(2), object(4)\n",
      "memory usage: 5.3+ MB\n",
      "None\n"
     ]
    },
    {
     "data": {
      "text/html": [
       "<div>\n",
       "<style scoped>\n",
       "    .dataframe tbody tr th:only-of-type {\n",
       "        vertical-align: middle;\n",
       "    }\n",
       "\n",
       "    .dataframe tbody tr th {\n",
       "        vertical-align: top;\n",
       "    }\n",
       "\n",
       "    .dataframe thead th {\n",
       "        text-align: right;\n",
       "    }\n",
       "</style>\n",
       "<table border=\"1\" class=\"dataframe\">\n",
       "  <thead>\n",
       "    <tr style=\"text-align: right;\">\n",
       "      <th></th>\n",
       "      <th>email_text</th>\n",
       "      <th>email_version</th>\n",
       "      <th>hour</th>\n",
       "      <th>weekday</th>\n",
       "      <th>user_country</th>\n",
       "      <th>user_past_purchases</th>\n",
       "    </tr>\n",
       "    <tr>\n",
       "      <th>email_id</th>\n",
       "      <th></th>\n",
       "      <th></th>\n",
       "      <th></th>\n",
       "      <th></th>\n",
       "      <th></th>\n",
       "      <th></th>\n",
       "    </tr>\n",
       "  </thead>\n",
       "  <tbody>\n",
       "    <tr>\n",
       "      <th>85120</th>\n",
       "      <td>short_email</td>\n",
       "      <td>personalized</td>\n",
       "      <td>2</td>\n",
       "      <td>Sunday</td>\n",
       "      <td>US</td>\n",
       "      <td>5</td>\n",
       "    </tr>\n",
       "    <tr>\n",
       "      <th>966622</th>\n",
       "      <td>long_email</td>\n",
       "      <td>personalized</td>\n",
       "      <td>12</td>\n",
       "      <td>Sunday</td>\n",
       "      <td>UK</td>\n",
       "      <td>2</td>\n",
       "    </tr>\n",
       "    <tr>\n",
       "      <th>777221</th>\n",
       "      <td>long_email</td>\n",
       "      <td>personalized</td>\n",
       "      <td>11</td>\n",
       "      <td>Wednesday</td>\n",
       "      <td>US</td>\n",
       "      <td>2</td>\n",
       "    </tr>\n",
       "    <tr>\n",
       "      <th>493711</th>\n",
       "      <td>short_email</td>\n",
       "      <td>generic</td>\n",
       "      <td>6</td>\n",
       "      <td>Monday</td>\n",
       "      <td>UK</td>\n",
       "      <td>1</td>\n",
       "    </tr>\n",
       "    <tr>\n",
       "      <th>106887</th>\n",
       "      <td>long_email</td>\n",
       "      <td>generic</td>\n",
       "      <td>14</td>\n",
       "      <td>Monday</td>\n",
       "      <td>US</td>\n",
       "      <td>6</td>\n",
       "    </tr>\n",
       "    <tr>\n",
       "      <th>684440</th>\n",
       "      <td>long_email</td>\n",
       "      <td>personalized</td>\n",
       "      <td>6</td>\n",
       "      <td>Sunday</td>\n",
       "      <td>UK</td>\n",
       "      <td>3</td>\n",
       "    </tr>\n",
       "    <tr>\n",
       "      <th>139620</th>\n",
       "      <td>short_email</td>\n",
       "      <td>personalized</td>\n",
       "      <td>9</td>\n",
       "      <td>Saturday</td>\n",
       "      <td>US</td>\n",
       "      <td>8</td>\n",
       "    </tr>\n",
       "    <tr>\n",
       "      <th>694933</th>\n",
       "      <td>long_email</td>\n",
       "      <td>generic</td>\n",
       "      <td>8</td>\n",
       "      <td>Saturday</td>\n",
       "      <td>US</td>\n",
       "      <td>2</td>\n",
       "    </tr>\n",
       "    <tr>\n",
       "      <th>485760</th>\n",
       "      <td>long_email</td>\n",
       "      <td>personalized</td>\n",
       "      <td>5</td>\n",
       "      <td>Monday</td>\n",
       "      <td>US</td>\n",
       "      <td>4</td>\n",
       "    </tr>\n",
       "    <tr>\n",
       "      <th>592665</th>\n",
       "      <td>short_email</td>\n",
       "      <td>personalized</td>\n",
       "      <td>23</td>\n",
       "      <td>Wednesday</td>\n",
       "      <td>US</td>\n",
       "      <td>3</td>\n",
       "    </tr>\n",
       "  </tbody>\n",
       "</table>\n",
       "</div>"
      ],
      "text/plain": [
       "           email_text email_version  hour    weekday user_country  \\\n",
       "email_id                                                            \n",
       "85120     short_email  personalized     2     Sunday           US   \n",
       "966622     long_email  personalized    12     Sunday           UK   \n",
       "777221     long_email  personalized    11  Wednesday           US   \n",
       "493711    short_email       generic     6     Monday           UK   \n",
       "106887     long_email       generic    14     Monday           US   \n",
       "684440     long_email  personalized     6     Sunday           UK   \n",
       "139620    short_email  personalized     9   Saturday           US   \n",
       "694933     long_email       generic     8   Saturday           US   \n",
       "485760     long_email  personalized     5     Monday           US   \n",
       "592665    short_email  personalized    23  Wednesday           US   \n",
       "\n",
       "          user_past_purchases  \n",
       "email_id                       \n",
       "85120                       5  \n",
       "966622                      2  \n",
       "777221                      2  \n",
       "493711                      1  \n",
       "106887                      6  \n",
       "684440                      3  \n",
       "139620                      8  \n",
       "694933                      2  \n",
       "485760                      4  \n",
       "592665                      3  "
      ]
     },
     "execution_count": 45,
     "metadata": {},
     "output_type": "execute_result"
    }
   ],
   "source": [
    "## lokk at sample data\n",
    "print(emails.info())\n",
    "emails.head(10)\n"
   ]
  },
  {
   "cell_type": "code",
   "execution_count": 46,
   "metadata": {},
   "outputs": [],
   "source": [
    "## changing email_text of type short and long to num of paragraphs(numerical value)\n",
    "### changing email_version to int \n",
    "### mapping weekday to numbers using dictionaries\n",
    "emails['paragraphs'] = np.where(emails.email_text=='short_email',2,4)\n",
    "#emails['paragraphs'].head()\n",
    "del emails['email_text']\n",
    "emails['personal'] = (emails.email_version=='personalized').astype(np.int)\n",
    "#emails['personal'].head()\n",
    "del emails['email_version']\n",
    "\n",
    "dayindex = {'Monday':1, 'Tuesday':2, 'Wednesday':3, 'Thursday':4,'Friday':5,'Saturday':6, 'Sunday':7}\n",
    "emails['weekday'] = emails.weekday.map(dayindex)\n",
    "\n",
    "\n",
    "### renaming column names\n",
    "emails.rename(columns={'user_country':'country', 'user_past_purchases':'purchases'},inplace = True)\n",
    "\n",
    "\n"
   ]
  },
  {
   "cell_type": "code",
   "execution_count": 47,
   "metadata": {},
   "outputs": [
    {
     "data": {
      "text/html": [
       "<div>\n",
       "<style scoped>\n",
       "    .dataframe tbody tr th:only-of-type {\n",
       "        vertical-align: middle;\n",
       "    }\n",
       "\n",
       "    .dataframe tbody tr th {\n",
       "        vertical-align: top;\n",
       "    }\n",
       "\n",
       "    .dataframe thead th {\n",
       "        text-align: right;\n",
       "    }\n",
       "</style>\n",
       "<table border=\"1\" class=\"dataframe\">\n",
       "  <thead>\n",
       "    <tr style=\"text-align: right;\">\n",
       "      <th></th>\n",
       "      <th>hour</th>\n",
       "      <th>weekday</th>\n",
       "      <th>country</th>\n",
       "      <th>purchases</th>\n",
       "      <th>paragraphs</th>\n",
       "      <th>personal</th>\n",
       "      <th>responses</th>\n",
       "    </tr>\n",
       "    <tr>\n",
       "      <th>email_id</th>\n",
       "      <th></th>\n",
       "      <th></th>\n",
       "      <th></th>\n",
       "      <th></th>\n",
       "      <th></th>\n",
       "      <th></th>\n",
       "      <th></th>\n",
       "    </tr>\n",
       "  </thead>\n",
       "  <tbody>\n",
       "    <tr>\n",
       "      <th>85120</th>\n",
       "      <td>2</td>\n",
       "      <td>7</td>\n",
       "      <td>US</td>\n",
       "      <td>5</td>\n",
       "      <td>2</td>\n",
       "      <td>1</td>\n",
       "      <td>received</td>\n",
       "    </tr>\n",
       "    <tr>\n",
       "      <th>966622</th>\n",
       "      <td>12</td>\n",
       "      <td>7</td>\n",
       "      <td>UK</td>\n",
       "      <td>2</td>\n",
       "      <td>4</td>\n",
       "      <td>1</td>\n",
       "      <td>clicked</td>\n",
       "    </tr>\n",
       "    <tr>\n",
       "      <th>777221</th>\n",
       "      <td>11</td>\n",
       "      <td>3</td>\n",
       "      <td>US</td>\n",
       "      <td>2</td>\n",
       "      <td>4</td>\n",
       "      <td>1</td>\n",
       "      <td>received</td>\n",
       "    </tr>\n",
       "    <tr>\n",
       "      <th>493711</th>\n",
       "      <td>6</td>\n",
       "      <td>1</td>\n",
       "      <td>UK</td>\n",
       "      <td>1</td>\n",
       "      <td>2</td>\n",
       "      <td>0</td>\n",
       "      <td>received</td>\n",
       "    </tr>\n",
       "    <tr>\n",
       "      <th>106887</th>\n",
       "      <td>14</td>\n",
       "      <td>1</td>\n",
       "      <td>US</td>\n",
       "      <td>6</td>\n",
       "      <td>4</td>\n",
       "      <td>0</td>\n",
       "      <td>received</td>\n",
       "    </tr>\n",
       "  </tbody>\n",
       "</table>\n",
       "</div>"
      ],
      "text/plain": [
       "          hour  weekday country  purchases  paragraphs  personal responses\n",
       "email_id                                                                  \n",
       "85120        2        7      US          5           2         1  received\n",
       "966622      12        7      UK          2           4         1   clicked\n",
       "777221      11        3      US          2           4         1  received\n",
       "493711       6        1      UK          1           2         0  received\n",
       "106887      14        1      US          6           4         0  received"
      ]
     },
     "execution_count": 47,
     "metadata": {},
     "output_type": "execute_result"
    }
   ],
   "source": [
    "## concat email responses data to same dataframe\n",
    "emails['responses'] = 'received'\n",
    "open_users = pd.read_csv('email_opened_table.csv').email_id\n",
    "emails.loc[open_users,'responses']= 'opened'\n",
    "\n",
    "click_users  = pd.read_csv('link_clicked_table.csv').email_id\n",
    "emails.loc[click_users,'responses'] = 'clicked'\n",
    "\n",
    "emails.head()"
   ]
  },
  {
   "cell_type": "markdown",
   "metadata": {},
   "source": [
    "# Question-1 \n",
    "a) what percentage of users opened the email?\n",
    "\n",
    "b ) what percentage clicked the email link"
   ]
  },
  {
   "cell_type": "code",
   "execution_count": 55,
   "metadata": {},
   "outputs": [
    {
     "data": {
      "text/plain": [
       "received    0.89605\n",
       "opened      0.08276\n",
       "clicked     0.02119\n",
       "Name: responses, dtype: float64"
      ]
     },
     "execution_count": 55,
     "metadata": {},
     "output_type": "execute_result"
    }
   ],
   "source": [
    "response_count = emails.responses.value_counts(normalize = True)\n",
    "response_count"
   ]
  },
  {
   "cell_type": "code",
   "execution_count": 59,
   "metadata": {},
   "outputs": [
    {
     "name": "stdout",
     "output_type": "stream",
     "text": [
      "10.39% of users opened the email\n",
      "2.12% of users clicked the link\n"
     ]
    }
   ],
   "source": [
    "print(\"{:.2f}% of users opened the email\".format((1-response_count.received)*100))\n",
    "print(\"{:.2f}% of users clicked the link\".format(response_count.clicked*100))"
   ]
  },
  {
   "cell_type": "code",
   "execution_count": 87,
   "metadata": {},
   "outputs": [],
   "source": [
    "### EDA\n",
    "def count_ratio(df):\n",
    "    counts = df.responses.value_counts(normalize = True)\n",
    "    counts['total']= df.shape[0]\n",
    "    return counts\n",
    "def grp_count_plot(k):\n",
    "    grp = emails.groupby(k).apply(count_ratio)\n",
    "    grp.loc[:,['clicked']].plot(kind = 'bar', title = 'click ratio vs.{}'.format(k))\n",
    "    plt.ylabel('click ratio')\n",
    "    return grp"
   ]
  },
  {
   "cell_type": "markdown",
   "metadata": {},
   "source": [
    "# CHI-Square and f-test to see the significance of input features"
   ]
  },
  {
   "cell_type": "code",
   "execution_count": 80,
   "metadata": {},
   "outputs": [],
   "source": [
    "responses_encode = LabelEncoder()\n",
    "country_encoder = LabelEncoder()\n",
    "\n",
    "X = emails.copy()\n",
    "y = responses_encode.fit_transform(X.responses)\n",
    "\n",
    "del X['responses']\n",
    "\n",
    "features = ['hour','weekday','country','purchases','paragraphs','personal']\n",
    "X = X.loc[:,features]\n",
    "X['country'] = country_encoder.fit_transform(X.country)\n",
    "\n",
    "chi2scores,_ = chi2(X,y)\n",
    "fscores,_= f_classif(X,y)\n",
    "\n",
    "feat_scores = pd.DataFrame({'chisquare':chi2scores, 'f_Score':fscores}, index = features)\n",
    "\n"
   ]
  },
  {
   "cell_type": "code",
   "execution_count": 79,
   "metadata": {},
   "outputs": [
    {
     "data": {
      "text/html": [
       "<div>\n",
       "<style scoped>\n",
       "    .dataframe tbody tr th:only-of-type {\n",
       "        vertical-align: middle;\n",
       "    }\n",
       "\n",
       "    .dataframe tbody tr th {\n",
       "        vertical-align: top;\n",
       "    }\n",
       "\n",
       "    .dataframe thead th {\n",
       "        text-align: right;\n",
       "    }\n",
       "</style>\n",
       "<table border=\"1\" class=\"dataframe\">\n",
       "  <thead>\n",
       "    <tr style=\"text-align: right;\">\n",
       "      <th></th>\n",
       "      <th>chisquare</th>\n",
       "      <th>f_Score</th>\n",
       "    </tr>\n",
       "  </thead>\n",
       "  <tbody>\n",
       "    <tr>\n",
       "      <th>purchases</th>\n",
       "      <td>3448.795660</td>\n",
       "      <td>663.388596</td>\n",
       "    </tr>\n",
       "    <tr>\n",
       "      <th>country</th>\n",
       "      <td>378.554465</td>\n",
       "      <td>435.696911</td>\n",
       "    </tr>\n",
       "    <tr>\n",
       "      <th>personal</th>\n",
       "      <td>316.752872</td>\n",
       "      <td>317.427444</td>\n",
       "    </tr>\n",
       "    <tr>\n",
       "      <th>weekday</th>\n",
       "      <td>210.006087</td>\n",
       "      <td>105.002643</td>\n",
       "    </tr>\n",
       "    <tr>\n",
       "      <th>hour</th>\n",
       "      <td>147.815921</td>\n",
       "      <td>33.992047</td>\n",
       "    </tr>\n",
       "    <tr>\n",
       "      <th>paragraphs</th>\n",
       "      <td>53.952439</td>\n",
       "      <td>81.209295</td>\n",
       "    </tr>\n",
       "  </tbody>\n",
       "</table>\n",
       "</div>"
      ],
      "text/plain": [
       "              chisquare     f_Score\n",
       "purchases   3448.795660  663.388596\n",
       "country      378.554465  435.696911\n",
       "personal     316.752872  317.427444\n",
       "weekday      210.006087  105.002643\n",
       "hour         147.815921   33.992047\n",
       "paragraphs    53.952439   81.209295"
      ]
     },
     "execution_count": 79,
     "metadata": {},
     "output_type": "execute_result"
    }
   ],
   "source": [
    "feat_scores.sort_values(by = 'chisquare', ascending = False)\n"
   ]
  },
  {
   "cell_type": "code",
   "execution_count": 81,
   "metadata": {},
   "outputs": [
    {
     "data": {
      "text/html": [
       "<div>\n",
       "<style scoped>\n",
       "    .dataframe tbody tr th:only-of-type {\n",
       "        vertical-align: middle;\n",
       "    }\n",
       "\n",
       "    .dataframe tbody tr th {\n",
       "        vertical-align: top;\n",
       "    }\n",
       "\n",
       "    .dataframe thead th {\n",
       "        text-align: right;\n",
       "    }\n",
       "</style>\n",
       "<table border=\"1\" class=\"dataframe\">\n",
       "  <thead>\n",
       "    <tr style=\"text-align: right;\">\n",
       "      <th></th>\n",
       "      <th>chisquare</th>\n",
       "      <th>f_Score</th>\n",
       "    </tr>\n",
       "  </thead>\n",
       "  <tbody>\n",
       "    <tr>\n",
       "      <th>purchases</th>\n",
       "      <td>3448.795660</td>\n",
       "      <td>663.388596</td>\n",
       "    </tr>\n",
       "    <tr>\n",
       "      <th>country</th>\n",
       "      <td>378.554465</td>\n",
       "      <td>435.696911</td>\n",
       "    </tr>\n",
       "    <tr>\n",
       "      <th>personal</th>\n",
       "      <td>316.752872</td>\n",
       "      <td>317.427444</td>\n",
       "    </tr>\n",
       "    <tr>\n",
       "      <th>weekday</th>\n",
       "      <td>210.006087</td>\n",
       "      <td>105.002643</td>\n",
       "    </tr>\n",
       "    <tr>\n",
       "      <th>paragraphs</th>\n",
       "      <td>53.952439</td>\n",
       "      <td>81.209295</td>\n",
       "    </tr>\n",
       "    <tr>\n",
       "      <th>hour</th>\n",
       "      <td>147.815921</td>\n",
       "      <td>33.992047</td>\n",
       "    </tr>\n",
       "  </tbody>\n",
       "</table>\n",
       "</div>"
      ],
      "text/plain": [
       "              chisquare     f_Score\n",
       "purchases   3448.795660  663.388596\n",
       "country      378.554465  435.696911\n",
       "personal     316.752872  317.427444\n",
       "weekday      210.006087  105.002643\n",
       "paragraphs    53.952439   81.209295\n",
       "hour         147.815921   33.992047"
      ]
     },
     "execution_count": 81,
     "metadata": {},
     "output_type": "execute_result"
    }
   ],
   "source": [
    "feat_scores.sort_values(by = 'f_Score', ascending = False)\n"
   ]
  },
  {
   "cell_type": "markdown",
   "metadata": {},
   "source": [
    "# from above test results, importan features are users purchases,\n",
    "### coutry and email_version and others are less important"
   ]
  },
  {
   "cell_type": "code",
   "execution_count": 85,
   "metadata": {},
   "outputs": [],
   "source": [
    "## Purchases vs responses\n",
    "grpby_purchase = emails.groupby('purchases').apply(count_ratio).unstack()\n",
    "grpby_purchase.fillna(value = 0, inplace=True)\n"
   ]
  },
  {
   "cell_type": "code",
   "execution_count": 86,
   "metadata": {},
   "outputs": [
    {
     "data": {
      "text/plain": [
       "Text(0, 0.5, 'ratio')"
      ]
     },
     "execution_count": 86,
     "metadata": {},
     "output_type": "execute_result"
    },
    {
     "data": {
      "image/png": "[encoded data removed]",
      "text/plain": [
       "<Figure size 720x360 with 1 Axes>"
      ]
     },
     "metadata": {
      "needs_background": "light"
     },
     "output_type": "display_data"
    }
   ],
   "source": [
    "plt.rc('figure', figsize = (10,5))\n",
    "grpby_purchase.loc[:,['received','opened','clicked']].plot(marker = 'o', markersize = 5)\n",
    "plt.ylabel('ratio')"
   ]
  },
  {
   "cell_type": "markdown",
   "metadata": {},
   "source": [
    "# from above plot we can see that as the num of purchsaes increases the more the user is likely to click or open the email."
   ]
  },
  {
   "cell_type": "code",
   "execution_count": 88,
   "metadata": {},
   "outputs": [
    {
     "data": {
      "text/html": [
       "<div>\n",
       "<style scoped>\n",
       "    .dataframe tbody tr th:only-of-type {\n",
       "        vertical-align: middle;\n",
       "    }\n",
       "\n",
       "    .dataframe tbody tr th {\n",
       "        vertical-align: top;\n",
       "    }\n",
       "\n",
       "    .dataframe thead th {\n",
       "        text-align: right;\n",
       "    }\n",
       "</style>\n",
       "<table border=\"1\" class=\"dataframe\">\n",
       "  <thead>\n",
       "    <tr style=\"text-align: right;\">\n",
       "      <th>responses</th>\n",
       "      <th>received</th>\n",
       "      <th>opened</th>\n",
       "      <th>clicked</th>\n",
       "      <th>total</th>\n",
       "    </tr>\n",
       "    <tr>\n",
       "      <th>country</th>\n",
       "      <th></th>\n",
       "      <th></th>\n",
       "      <th></th>\n",
       "      <th></th>\n",
       "    </tr>\n",
       "  </thead>\n",
       "  <tbody>\n",
       "    <tr>\n",
       "      <th>ES</th>\n",
       "      <td>0.960570</td>\n",
       "      <td>0.031103</td>\n",
       "      <td>0.008327</td>\n",
       "      <td>9967.0</td>\n",
       "    </tr>\n",
       "    <tr>\n",
       "      <th>FR</th>\n",
       "      <td>0.958779</td>\n",
       "      <td>0.033217</td>\n",
       "      <td>0.008004</td>\n",
       "      <td>9995.0</td>\n",
       "    </tr>\n",
       "    <tr>\n",
       "      <th>UK</th>\n",
       "      <td>0.879282</td>\n",
       "      <td>0.096043</td>\n",
       "      <td>0.024675</td>\n",
       "      <td>19939.0</td>\n",
       "    </tr>\n",
       "    <tr>\n",
       "      <th>US</th>\n",
       "      <td>0.880481</td>\n",
       "      <td>0.095160</td>\n",
       "      <td>0.024360</td>\n",
       "      <td>60099.0</td>\n",
       "    </tr>\n",
       "  </tbody>\n",
       "</table>\n",
       "</div>"
      ],
      "text/plain": [
       "responses  received    opened   clicked    total\n",
       "country                                         \n",
       "ES         0.960570  0.031103  0.008327   9967.0\n",
       "FR         0.958779  0.033217  0.008004   9995.0\n",
       "UK         0.879282  0.096043  0.024675  19939.0\n",
       "US         0.880481  0.095160  0.024360  60099.0"
      ]
     },
     "execution_count": 88,
     "metadata": {},
     "output_type": "execute_result"
    },
    {
     "data": {
      "image/png": "[encoded data removed]",
      "text/plain": [
       "<Figure size 720x360 with 1 Axes>"
      ]
     },
     "metadata": {
      "needs_background": "light"
     },
     "output_type": "display_data"
    }
   ],
   "source": [
    "### country vs responses\n",
    "grp_count_plot('country')"
   ]
  },
  {
   "cell_type": "markdown",
   "metadata": {},
   "source": [
    "# US AND UK HAVE HIGH(3 TIMES) CLICK RATE AND OPEN % , WHICH SHOWS THAT EFECT OF EMAIL LANGUAGE IN FRANCE AND SPAIN WHIH IS NOT ENGLISH MOSTLY"
   ]
  },
  {
   "cell_type": "code",
   "execution_count": 89,
   "metadata": {},
   "outputs": [
    {
     "data": {
      "text/html": [
       "<div>\n",
       "<style scoped>\n",
       "    .dataframe tbody tr th:only-of-type {\n",
       "        vertical-align: middle;\n",
       "    }\n",
       "\n",
       "    .dataframe tbody tr th {\n",
       "        vertical-align: top;\n",
       "    }\n",
       "\n",
       "    .dataframe thead th {\n",
       "        text-align: right;\n",
       "    }\n",
       "</style>\n",
       "<table border=\"1\" class=\"dataframe\">\n",
       "  <thead>\n",
       "    <tr style=\"text-align: right;\">\n",
       "      <th>responses</th>\n",
       "      <th>received</th>\n",
       "      <th>opened</th>\n",
       "      <th>clicked</th>\n",
       "      <th>total</th>\n",
       "    </tr>\n",
       "    <tr>\n",
       "      <th>personal</th>\n",
       "      <th></th>\n",
       "      <th></th>\n",
       "      <th></th>\n",
       "      <th></th>\n",
       "    </tr>\n",
       "  </thead>\n",
       "  <tbody>\n",
       "    <tr>\n",
       "      <th>0</th>\n",
       "      <td>0.920034</td>\n",
       "      <td>0.064829</td>\n",
       "      <td>0.015137</td>\n",
       "      <td>50209.0</td>\n",
       "    </tr>\n",
       "    <tr>\n",
       "      <th>1</th>\n",
       "      <td>0.871864</td>\n",
       "      <td>0.100842</td>\n",
       "      <td>0.027294</td>\n",
       "      <td>49791.0</td>\n",
       "    </tr>\n",
       "  </tbody>\n",
       "</table>\n",
       "</div>"
      ],
      "text/plain": [
       "responses  received    opened   clicked    total\n",
       "personal                                        \n",
       "0          0.920034  0.064829  0.015137  50209.0\n",
       "1          0.871864  0.100842  0.027294  49791.0"
      ]
     },
     "execution_count": 89,
     "metadata": {},
     "output_type": "execute_result"
    },
    {
     "data": {
      "image/png": "[encoded data removed]",
      "text/plain": [
       "<Figure size 720x360 with 1 Axes>"
      ]
     },
     "metadata": {
      "needs_background": "light"
     },
     "output_type": "display_data"
    }
   ],
   "source": [
    "### email_version vs responses\n",
    "grp_count_plot('personal')"
   ]
  },
  {
   "cell_type": "markdown",
   "metadata": {},
   "source": [
    "# personal mails have hisgherr click rate than generic ,whcih shows that if a mail has some name/ref to the reciever its more likely they open/click it"
   ]
  },
  {
   "cell_type": "code",
   "execution_count": 90,
   "metadata": {},
   "outputs": [
    {
     "data": {
      "text/html": [
       "<div>\n",
       "<style scoped>\n",
       "    .dataframe tbody tr th:only-of-type {\n",
       "        vertical-align: middle;\n",
       "    }\n",
       "\n",
       "    .dataframe tbody tr th {\n",
       "        vertical-align: top;\n",
       "    }\n",
       "\n",
       "    .dataframe thead th {\n",
       "        text-align: right;\n",
       "    }\n",
       "</style>\n",
       "<table border=\"1\" class=\"dataframe\">\n",
       "  <thead>\n",
       "    <tr style=\"text-align: right;\">\n",
       "      <th>responses</th>\n",
       "      <th>received</th>\n",
       "      <th>opened</th>\n",
       "      <th>clicked</th>\n",
       "      <th>total</th>\n",
       "    </tr>\n",
       "    <tr>\n",
       "      <th>weekday</th>\n",
       "      <th></th>\n",
       "      <th></th>\n",
       "      <th></th>\n",
       "      <th></th>\n",
       "    </tr>\n",
       "  </thead>\n",
       "  <tbody>\n",
       "    <tr>\n",
       "      <th>1</th>\n",
       "      <td>0.883590</td>\n",
       "      <td>0.093504</td>\n",
       "      <td>0.022906</td>\n",
       "      <td>14363.0</td>\n",
       "    </tr>\n",
       "    <tr>\n",
       "      <th>2</th>\n",
       "      <td>0.879092</td>\n",
       "      <td>0.096019</td>\n",
       "      <td>0.024889</td>\n",
       "      <td>14143.0</td>\n",
       "    </tr>\n",
       "    <tr>\n",
       "      <th>3</th>\n",
       "      <td>0.879296</td>\n",
       "      <td>0.093084</td>\n",
       "      <td>0.027620</td>\n",
       "      <td>14084.0</td>\n",
       "    </tr>\n",
       "    <tr>\n",
       "      <th>4</th>\n",
       "      <td>0.881348</td>\n",
       "      <td>0.094207</td>\n",
       "      <td>0.024445</td>\n",
       "      <td>14277.0</td>\n",
       "    </tr>\n",
       "    <tr>\n",
       "      <th>5</th>\n",
       "      <td>0.925019</td>\n",
       "      <td>0.060944</td>\n",
       "      <td>0.014037</td>\n",
       "      <td>14177.0</td>\n",
       "    </tr>\n",
       "    <tr>\n",
       "      <th>6</th>\n",
       "      <td>0.912005</td>\n",
       "      <td>0.070149</td>\n",
       "      <td>0.017846</td>\n",
       "      <td>14569.0</td>\n",
       "    </tr>\n",
       "    <tr>\n",
       "      <th>7</th>\n",
       "      <td>0.911448</td>\n",
       "      <td>0.071801</td>\n",
       "      <td>0.016751</td>\n",
       "      <td>14387.0</td>\n",
       "    </tr>\n",
       "  </tbody>\n",
       "</table>\n",
       "</div>"
      ],
      "text/plain": [
       "responses  received    opened   clicked    total\n",
       "weekday                                         \n",
       "1          0.883590  0.093504  0.022906  14363.0\n",
       "2          0.879092  0.096019  0.024889  14143.0\n",
       "3          0.879296  0.093084  0.027620  14084.0\n",
       "4          0.881348  0.094207  0.024445  14277.0\n",
       "5          0.925019  0.060944  0.014037  14177.0\n",
       "6          0.912005  0.070149  0.017846  14569.0\n",
       "7          0.911448  0.071801  0.016751  14387.0"
      ]
     },
     "execution_count": 90,
     "metadata": {},
     "output_type": "execute_result"
    },
    {
     "data": {
      "image/png": "[encoded data removed]",
      "text/plain": [
       "<Figure size 720x360 with 1 Axes>"
      ]
     },
     "metadata": {
      "needs_background": "light"
     },
     "output_type": "display_data"
    }
   ],
   "source": [
    "# Weekday vs responses\n",
    "grp_count_plot('weekday')"
   ]
  },
  {
   "cell_type": "markdown",
   "metadata": {},
   "source": [
    "# its evident from fig that people generally don't reply to mails on weekends"
   ]
  },
  {
   "cell_type": "code",
   "execution_count": 91,
   "metadata": {},
   "outputs": [
    {
     "data": {
      "text/html": [
       "<div>\n",
       "<style scoped>\n",
       "    .dataframe tbody tr th:only-of-type {\n",
       "        vertical-align: middle;\n",
       "    }\n",
       "\n",
       "    .dataframe tbody tr th {\n",
       "        vertical-align: top;\n",
       "    }\n",
       "\n",
       "    .dataframe thead th {\n",
       "        text-align: right;\n",
       "    }\n",
       "</style>\n",
       "<table border=\"1\" class=\"dataframe\">\n",
       "  <thead>\n",
       "    <tr style=\"text-align: right;\">\n",
       "      <th>responses</th>\n",
       "      <th>received</th>\n",
       "      <th>opened</th>\n",
       "      <th>clicked</th>\n",
       "      <th>total</th>\n",
       "    </tr>\n",
       "    <tr>\n",
       "      <th>paragraphs</th>\n",
       "      <th></th>\n",
       "      <th></th>\n",
       "      <th></th>\n",
       "      <th></th>\n",
       "    </tr>\n",
       "  </thead>\n",
       "  <tbody>\n",
       "    <tr>\n",
       "      <th>2</th>\n",
       "      <td>0.883698</td>\n",
       "      <td>0.092430</td>\n",
       "      <td>0.023872</td>\n",
       "      <td>49724.0</td>\n",
       "    </tr>\n",
       "    <tr>\n",
       "      <th>4</th>\n",
       "      <td>0.908266</td>\n",
       "      <td>0.073196</td>\n",
       "      <td>0.018538</td>\n",
       "      <td>50276.0</td>\n",
       "    </tr>\n",
       "  </tbody>\n",
       "</table>\n",
       "</div>"
      ],
      "text/plain": [
       "responses   received    opened   clicked    total\n",
       "paragraphs                                       \n",
       "2           0.883698  0.092430  0.023872  49724.0\n",
       "4           0.908266  0.073196  0.018538  50276.0"
      ]
     },
     "execution_count": 91,
     "metadata": {},
     "output_type": "execute_result"
    },
    {
     "data": {
      "image/png": "[encoded data removed]",
      "text/plain": [
       "<Figure size 720x360 with 1 Axes>"
      ]
     },
     "metadata": {
      "needs_background": "light"
     },
     "output_type": "display_data"
    }
   ],
   "source": [
    "## text vs responses\n",
    "grp_count_plot('paragraphs')"
   ]
  },
  {
   "cell_type": "markdown",
   "metadata": {},
   "source": [
    "# small text emails have comparable advantage than longer emails in clicking/opening the mail"
   ]
  },
  {
   "cell_type": "code",
   "execution_count": 92,
   "metadata": {},
   "outputs": [
    {
     "data": {
      "text/html": [
       "<div>\n",
       "<style scoped>\n",
       "    .dataframe tbody tr th:only-of-type {\n",
       "        vertical-align: middle;\n",
       "    }\n",
       "\n",
       "    .dataframe tbody tr th {\n",
       "        vertical-align: top;\n",
       "    }\n",
       "\n",
       "    .dataframe thead th {\n",
       "        text-align: right;\n",
       "    }\n",
       "</style>\n",
       "<table border=\"1\" class=\"dataframe\">\n",
       "  <thead>\n",
       "    <tr style=\"text-align: right;\">\n",
       "      <th>responses</th>\n",
       "      <th>received</th>\n",
       "      <th>opened</th>\n",
       "      <th>clicked</th>\n",
       "      <th>total</th>\n",
       "    </tr>\n",
       "    <tr>\n",
       "      <th>hour</th>\n",
       "      <th></th>\n",
       "      <th></th>\n",
       "      <th></th>\n",
       "      <th></th>\n",
       "    </tr>\n",
       "  </thead>\n",
       "  <tbody>\n",
       "    <tr>\n",
       "      <th>1</th>\n",
       "      <td>0.910840</td>\n",
       "      <td>0.071032</td>\n",
       "      <td>0.018128</td>\n",
       "      <td>2703.0</td>\n",
       "    </tr>\n",
       "    <tr>\n",
       "      <th>2</th>\n",
       "      <td>0.911589</td>\n",
       "      <td>0.072089</td>\n",
       "      <td>0.016322</td>\n",
       "      <td>3676.0</td>\n",
       "    </tr>\n",
       "    <tr>\n",
       "      <th>3</th>\n",
       "      <td>0.915184</td>\n",
       "      <td>0.065293</td>\n",
       "      <td>0.019523</td>\n",
       "      <td>4610.0</td>\n",
       "    </tr>\n",
       "    <tr>\n",
       "      <th>4</th>\n",
       "      <td>0.911419</td>\n",
       "      <td>0.072394</td>\n",
       "      <td>0.016186</td>\n",
       "      <td>5622.0</td>\n",
       "    </tr>\n",
       "    <tr>\n",
       "      <th>5</th>\n",
       "      <td>0.917417</td>\n",
       "      <td>0.064570</td>\n",
       "      <td>0.018013</td>\n",
       "      <td>6551.0</td>\n",
       "    </tr>\n",
       "    <tr>\n",
       "      <th>6</th>\n",
       "      <td>0.909176</td>\n",
       "      <td>0.073677</td>\n",
       "      <td>0.017147</td>\n",
       "      <td>7465.0</td>\n",
       "    </tr>\n",
       "    <tr>\n",
       "      <th>7</th>\n",
       "      <td>0.909434</td>\n",
       "      <td>0.072282</td>\n",
       "      <td>0.018284</td>\n",
       "      <td>8204.0</td>\n",
       "    </tr>\n",
       "    <tr>\n",
       "      <th>8</th>\n",
       "      <td>0.911407</td>\n",
       "      <td>0.069659</td>\n",
       "      <td>0.018933</td>\n",
       "      <td>8398.0</td>\n",
       "    </tr>\n",
       "    <tr>\n",
       "      <th>9</th>\n",
       "      <td>0.873725</td>\n",
       "      <td>0.100481</td>\n",
       "      <td>0.025794</td>\n",
       "      <td>8529.0</td>\n",
       "    </tr>\n",
       "    <tr>\n",
       "      <th>10</th>\n",
       "      <td>0.866993</td>\n",
       "      <td>0.104768</td>\n",
       "      <td>0.028240</td>\n",
       "      <td>8180.0</td>\n",
       "    </tr>\n",
       "    <tr>\n",
       "      <th>11</th>\n",
       "      <td>0.872645</td>\n",
       "      <td>0.100227</td>\n",
       "      <td>0.027128</td>\n",
       "      <td>7483.0</td>\n",
       "    </tr>\n",
       "    <tr>\n",
       "      <th>12</th>\n",
       "      <td>0.875230</td>\n",
       "      <td>0.099109</td>\n",
       "      <td>0.025661</td>\n",
       "      <td>6508.0</td>\n",
       "    </tr>\n",
       "    <tr>\n",
       "      <th>13</th>\n",
       "      <td>0.890521</td>\n",
       "      <td>0.089590</td>\n",
       "      <td>0.019889</td>\n",
       "      <td>5581.0</td>\n",
       "    </tr>\n",
       "    <tr>\n",
       "      <th>14</th>\n",
       "      <td>0.889520</td>\n",
       "      <td>0.089738</td>\n",
       "      <td>0.020742</td>\n",
       "      <td>4580.0</td>\n",
       "    </tr>\n",
       "    <tr>\n",
       "      <th>15</th>\n",
       "      <td>0.894074</td>\n",
       "      <td>0.081019</td>\n",
       "      <td>0.024907</td>\n",
       "      <td>3493.0</td>\n",
       "    </tr>\n",
       "    <tr>\n",
       "      <th>16</th>\n",
       "      <td>0.894165</td>\n",
       "      <td>0.082639</td>\n",
       "      <td>0.023197</td>\n",
       "      <td>2759.0</td>\n",
       "    </tr>\n",
       "    <tr>\n",
       "      <th>17</th>\n",
       "      <td>0.890650</td>\n",
       "      <td>0.090861</td>\n",
       "      <td>0.018489</td>\n",
       "      <td>1893.0</td>\n",
       "    </tr>\n",
       "    <tr>\n",
       "      <th>18</th>\n",
       "      <td>0.905700</td>\n",
       "      <td>0.078114</td>\n",
       "      <td>0.016186</td>\n",
       "      <td>1421.0</td>\n",
       "    </tr>\n",
       "    <tr>\n",
       "      <th>19</th>\n",
       "      <td>0.924862</td>\n",
       "      <td>0.058564</td>\n",
       "      <td>0.016575</td>\n",
       "      <td>905.0</td>\n",
       "    </tr>\n",
       "    <tr>\n",
       "      <th>20</th>\n",
       "      <td>0.911585</td>\n",
       "      <td>0.076220</td>\n",
       "      <td>0.012195</td>\n",
       "      <td>656.0</td>\n",
       "    </tr>\n",
       "    <tr>\n",
       "      <th>21</th>\n",
       "      <td>0.942466</td>\n",
       "      <td>0.049315</td>\n",
       "      <td>0.008219</td>\n",
       "      <td>365.0</td>\n",
       "    </tr>\n",
       "    <tr>\n",
       "      <th>22</th>\n",
       "      <td>0.931373</td>\n",
       "      <td>0.049020</td>\n",
       "      <td>0.019608</td>\n",
       "      <td>204.0</td>\n",
       "    </tr>\n",
       "    <tr>\n",
       "      <th>23</th>\n",
       "      <td>0.917241</td>\n",
       "      <td>0.041379</td>\n",
       "      <td>0.041379</td>\n",
       "      <td>145.0</td>\n",
       "    </tr>\n",
       "    <tr>\n",
       "      <th>24</th>\n",
       "      <td>0.840580</td>\n",
       "      <td>0.130435</td>\n",
       "      <td>0.028986</td>\n",
       "      <td>69.0</td>\n",
       "    </tr>\n",
       "  </tbody>\n",
       "</table>\n",
       "</div>"
      ],
      "text/plain": [
       "responses  received    opened   clicked   total\n",
       "hour                                           \n",
       "1          0.910840  0.071032  0.018128  2703.0\n",
       "2          0.911589  0.072089  0.016322  3676.0\n",
       "3          0.915184  0.065293  0.019523  4610.0\n",
       "4          0.911419  0.072394  0.016186  5622.0\n",
       "5          0.917417  0.064570  0.018013  6551.0\n",
       "6          0.909176  0.073677  0.017147  7465.0\n",
       "7          0.909434  0.072282  0.018284  8204.0\n",
       "8          0.911407  0.069659  0.018933  8398.0\n",
       "9          0.873725  0.100481  0.025794  8529.0\n",
       "10         0.866993  0.104768  0.028240  8180.0\n",
       "11         0.872645  0.100227  0.027128  7483.0\n",
       "12         0.875230  0.099109  0.025661  6508.0\n",
       "13         0.890521  0.089590  0.019889  5581.0\n",
       "14         0.889520  0.089738  0.020742  4580.0\n",
       "15         0.894074  0.081019  0.024907  3493.0\n",
       "16         0.894165  0.082639  0.023197  2759.0\n",
       "17         0.890650  0.090861  0.018489  1893.0\n",
       "18         0.905700  0.078114  0.016186  1421.0\n",
       "19         0.924862  0.058564  0.016575   905.0\n",
       "20         0.911585  0.076220  0.012195   656.0\n",
       "21         0.942466  0.049315  0.008219   365.0\n",
       "22         0.931373  0.049020  0.019608   204.0\n",
       "23         0.917241  0.041379  0.041379   145.0\n",
       "24         0.840580  0.130435  0.028986    69.0"
      ]
     },
     "execution_count": 92,
     "metadata": {},
     "output_type": "execute_result"
    },
    {
     "data": {
      "image/png": "[encoded data removed]",
      "text/plain": [
       "<Figure size 720x360 with 1 Axes>"
      ]
     },
     "metadata": {
      "needs_background": "light"
     },
     "output_type": "display_data"
    }
   ],
   "source": [
    "### sending hr vs responses\n",
    "grp_count_plot('hour')"
   ]
  },
  {
   "cell_type": "markdown",
   "metadata": {},
   "source": [
    "# from fig its slightly misleaading that late hrs(23,24) will have more cloick ration , which might not be the case in real world scenario"
   ]
  },
  {
   "cell_type": "markdown",
   "metadata": {},
   "source": [
    "# Q-2)Any interesting patterns in user segments?\n",
    "Ans:from above visulaizations we can have some insights like:\n",
    "a) more num of purchases leads to higher click/open ratio\n",
    "b) English speaking countries have higher chance of clicking a email\n",
    "c) Personalized emails have more probability to be clicked\n",
    "d) Emails on weekends have lower possibilty to be opened/clicked\n",
    "    \n",
    "    \n",
    "        \n"
   ]
  },
  {
   "cell_type": "code",
   "execution_count": 93,
   "metadata": {},
   "outputs": [
    {
     "data": {
      "text/html": [
       "<div>\n",
       "<style scoped>\n",
       "    .dataframe tbody tr th:only-of-type {\n",
       "        vertical-align: middle;\n",
       "    }\n",
       "\n",
       "    .dataframe tbody tr th {\n",
       "        vertical-align: top;\n",
       "    }\n",
       "\n",
       "    .dataframe thead th {\n",
       "        text-align: right;\n",
       "    }\n",
       "</style>\n",
       "<table border=\"1\" class=\"dataframe\">\n",
       "  <thead>\n",
       "    <tr style=\"text-align: right;\">\n",
       "      <th></th>\n",
       "      <th>hour</th>\n",
       "      <th>weekday</th>\n",
       "      <th>country</th>\n",
       "      <th>purchases</th>\n",
       "      <th>paragraphs</th>\n",
       "      <th>personal</th>\n",
       "      <th>responses</th>\n",
       "    </tr>\n",
       "    <tr>\n",
       "      <th>email_id</th>\n",
       "      <th></th>\n",
       "      <th></th>\n",
       "      <th></th>\n",
       "      <th></th>\n",
       "      <th></th>\n",
       "      <th></th>\n",
       "      <th></th>\n",
       "    </tr>\n",
       "  </thead>\n",
       "  <tbody>\n",
       "    <tr>\n",
       "      <th>310873</th>\n",
       "      <td>17</td>\n",
       "      <td>1</td>\n",
       "      <td>US</td>\n",
       "      <td>1</td>\n",
       "      <td>2</td>\n",
       "      <td>1</td>\n",
       "      <td>opened</td>\n",
       "    </tr>\n",
       "    <tr>\n",
       "      <th>682380</th>\n",
       "      <td>4</td>\n",
       "      <td>1</td>\n",
       "      <td>UK</td>\n",
       "      <td>0</td>\n",
       "      <td>4</td>\n",
       "      <td>0</td>\n",
       "      <td>received</td>\n",
       "    </tr>\n",
       "    <tr>\n",
       "      <th>55483</th>\n",
       "      <td>7</td>\n",
       "      <td>1</td>\n",
       "      <td>US</td>\n",
       "      <td>4</td>\n",
       "      <td>4</td>\n",
       "      <td>1</td>\n",
       "      <td>received</td>\n",
       "    </tr>\n",
       "    <tr>\n",
       "      <th>641721</th>\n",
       "      <td>11</td>\n",
       "      <td>5</td>\n",
       "      <td>UK</td>\n",
       "      <td>1</td>\n",
       "      <td>2</td>\n",
       "      <td>1</td>\n",
       "      <td>received</td>\n",
       "    </tr>\n",
       "    <tr>\n",
       "      <th>515175</th>\n",
       "      <td>16</td>\n",
       "      <td>1</td>\n",
       "      <td>US</td>\n",
       "      <td>3</td>\n",
       "      <td>2</td>\n",
       "      <td>1</td>\n",
       "      <td>received</td>\n",
       "    </tr>\n",
       "  </tbody>\n",
       "</table>\n",
       "</div>"
      ],
      "text/plain": [
       "          hour  weekday country  purchases  paragraphs  personal responses\n",
       "email_id                                                                  \n",
       "310873      17        1      US          1           2         1    opened\n",
       "682380       4        1      UK          0           4         0  received\n",
       "55483        7        1      US          4           4         1  received\n",
       "641721      11        5      UK          1           2         1  received\n",
       "515175      16        1      US          3           2         1  received"
      ]
     },
     "execution_count": 93,
     "metadata": {},
     "output_type": "execute_result"
    }
   ],
   "source": [
    "##3 predictive modelling to check whether a user opens/clicks the link\n",
    "\n",
    "### prepare the data\n",
    "del X\n",
    "X = emails.copy()\n",
    "X.sample(5)"
   ]
  },
  {
   "cell_type": "code",
   "execution_count": 94,
   "metadata": {},
   "outputs": [],
   "source": [
    "### select features \n",
    "X = X.loc[:,['country','purchases','paragraphs','personal']]\n",
    "\n",
    "## new features\n",
    "X['weekend'] = (emails.weekday>=5).astype(int)\n",
    "\n",
    "## labelling for countries \n",
    "X = pd.get_dummies(X,columns = ['country'],drop_first = True)\n",
    "\n",
    "### target/output variable\n",
    "\n",
    "y = (emails.responses=='clicked').astype(int)\n"
   ]
  },
  {
   "cell_type": "code",
   "execution_count": 95,
   "metadata": {},
   "outputs": [
    {
     "data": {
      "text/html": [
       "<div>\n",
       "<style scoped>\n",
       "    .dataframe tbody tr th:only-of-type {\n",
       "        vertical-align: middle;\n",
       "    }\n",
       "\n",
       "    .dataframe tbody tr th {\n",
       "        vertical-align: top;\n",
       "    }\n",
       "\n",
       "    .dataframe thead th {\n",
       "        text-align: right;\n",
       "    }\n",
       "</style>\n",
       "<table border=\"1\" class=\"dataframe\">\n",
       "  <thead>\n",
       "    <tr style=\"text-align: right;\">\n",
       "      <th></th>\n",
       "      <th>purchases</th>\n",
       "      <th>paragraphs</th>\n",
       "      <th>personal</th>\n",
       "      <th>weekend</th>\n",
       "      <th>country_FR</th>\n",
       "      <th>country_UK</th>\n",
       "      <th>country_US</th>\n",
       "    </tr>\n",
       "    <tr>\n",
       "      <th>email_id</th>\n",
       "      <th></th>\n",
       "      <th></th>\n",
       "      <th></th>\n",
       "      <th></th>\n",
       "      <th></th>\n",
       "      <th></th>\n",
       "      <th></th>\n",
       "    </tr>\n",
       "  </thead>\n",
       "  <tbody>\n",
       "    <tr>\n",
       "      <th>770958</th>\n",
       "      <td>3</td>\n",
       "      <td>4</td>\n",
       "      <td>0</td>\n",
       "      <td>0</td>\n",
       "      <td>0</td>\n",
       "      <td>0</td>\n",
       "      <td>1</td>\n",
       "    </tr>\n",
       "    <tr>\n",
       "      <th>904600</th>\n",
       "      <td>2</td>\n",
       "      <td>4</td>\n",
       "      <td>1</td>\n",
       "      <td>1</td>\n",
       "      <td>0</td>\n",
       "      <td>1</td>\n",
       "      <td>0</td>\n",
       "    </tr>\n",
       "    <tr>\n",
       "      <th>42769</th>\n",
       "      <td>5</td>\n",
       "      <td>4</td>\n",
       "      <td>1</td>\n",
       "      <td>1</td>\n",
       "      <td>0</td>\n",
       "      <td>0</td>\n",
       "      <td>1</td>\n",
       "    </tr>\n",
       "    <tr>\n",
       "      <th>646584</th>\n",
       "      <td>3</td>\n",
       "      <td>2</td>\n",
       "      <td>0</td>\n",
       "      <td>0</td>\n",
       "      <td>0</td>\n",
       "      <td>1</td>\n",
       "      <td>0</td>\n",
       "    </tr>\n",
       "    <tr>\n",
       "      <th>181575</th>\n",
       "      <td>2</td>\n",
       "      <td>2</td>\n",
       "      <td>1</td>\n",
       "      <td>1</td>\n",
       "      <td>0</td>\n",
       "      <td>1</td>\n",
       "      <td>0</td>\n",
       "    </tr>\n",
       "    <tr>\n",
       "      <th>867543</th>\n",
       "      <td>6</td>\n",
       "      <td>4</td>\n",
       "      <td>0</td>\n",
       "      <td>1</td>\n",
       "      <td>0</td>\n",
       "      <td>0</td>\n",
       "      <td>1</td>\n",
       "    </tr>\n",
       "    <tr>\n",
       "      <th>561588</th>\n",
       "      <td>4</td>\n",
       "      <td>4</td>\n",
       "      <td>1</td>\n",
       "      <td>0</td>\n",
       "      <td>0</td>\n",
       "      <td>1</td>\n",
       "      <td>0</td>\n",
       "    </tr>\n",
       "    <tr>\n",
       "      <th>528122</th>\n",
       "      <td>0</td>\n",
       "      <td>2</td>\n",
       "      <td>1</td>\n",
       "      <td>0</td>\n",
       "      <td>0</td>\n",
       "      <td>0</td>\n",
       "      <td>1</td>\n",
       "    </tr>\n",
       "    <tr>\n",
       "      <th>767514</th>\n",
       "      <td>2</td>\n",
       "      <td>4</td>\n",
       "      <td>1</td>\n",
       "      <td>0</td>\n",
       "      <td>0</td>\n",
       "      <td>0</td>\n",
       "      <td>1</td>\n",
       "    </tr>\n",
       "    <tr>\n",
       "      <th>272028</th>\n",
       "      <td>1</td>\n",
       "      <td>4</td>\n",
       "      <td>0</td>\n",
       "      <td>1</td>\n",
       "      <td>0</td>\n",
       "      <td>0</td>\n",
       "      <td>0</td>\n",
       "    </tr>\n",
       "  </tbody>\n",
       "</table>\n",
       "</div>"
      ],
      "text/plain": [
       "          purchases  paragraphs  personal  weekend  country_FR  country_UK  \\\n",
       "email_id                                                                     \n",
       "770958            3           4         0        0           0           0   \n",
       "904600            2           4         1        1           0           1   \n",
       "42769             5           4         1        1           0           0   \n",
       "646584            3           2         0        0           0           1   \n",
       "181575            2           2         1        1           0           1   \n",
       "867543            6           4         0        1           0           0   \n",
       "561588            4           4         1        0           0           1   \n",
       "528122            0           2         1        0           0           0   \n",
       "767514            2           4         1        0           0           0   \n",
       "272028            1           4         0        1           0           0   \n",
       "\n",
       "          country_US  \n",
       "email_id              \n",
       "770958             1  \n",
       "904600             0  \n",
       "42769              1  \n",
       "646584             0  \n",
       "181575             0  \n",
       "867543             1  \n",
       "561588             0  \n",
       "528122             1  \n",
       "767514             1  \n",
       "272028             0  "
      ]
     },
     "execution_count": 95,
     "metadata": {},
     "output_type": "execute_result"
    }
   ],
   "source": [
    "X.sample(10)"
   ]
  },
  {
   "cell_type": "code",
   "execution_count": 96,
   "metadata": {},
   "outputs": [],
   "source": [
    "### split data into train, test\n",
    "seed = 9999\n",
    "Xtrain, Xtest, ytrain, ytest = train_test_split(X,y,test_size = 0.3, random_state = seed)"
   ]
  },
  {
   "cell_type": "code",
   "execution_count": 121,
   "metadata": {},
   "outputs": [
    {
     "name": "stdout",
     "output_type": "stream",
     "text": [
      "X_train size: (70000, 7) pos ratio: 0.020871428571428572 X_test size: (30000, 7) pos ratio: 0.021933333333333332\n"
     ]
    }
   ],
   "source": [
    "print('X_train size:',(Xtrain.shape),'pos ratio:', ytrain.mean(), 'X_test size:',(Xtest.shape), 'pos ratio:', ytest.mean())"
   ]
  },
  {
   "cell_type": "code",
   "execution_count": 103,
   "metadata": {},
   "outputs": [
    {
     "name": "stderr",
     "output_type": "stream",
     "text": [
      "/usr/local/lib/python3.7/site-packages/xgboost/core.py:587: FutureWarning: Series.base is deprecated and will be removed in a future version\n",
      "  if getattr(data, 'base', None) is not None and \\\n"
     ]
    }
   ],
   "source": [
    "train_mat = xgb.DMatrix(Xtrain,ytrain)\n",
    "test_mat = xgb.DMatrix(Xtest,ytest)\n"
   ]
  },
  {
   "cell_type": "code",
   "execution_count": 105,
   "metadata": {},
   "outputs": [
    {
     "name": "stdout",
     "output_type": "stream",
     "text": [
      "[0]\ttrain-auc:0.576041+0.00272557\ttest-auc:0.575998+0.0110864\n",
      "[1]\ttrain-auc:0.624188+0.0595457\ttest-auc:0.617825+0.0546517\n",
      "[2]\ttrain-auc:0.675353+0.0445142\ttest-auc:0.667392+0.0486274\n",
      "[3]\ttrain-auc:0.700686+0.0105298\ttest-auc:0.691674+0.0245388\n",
      "[4]\ttrain-auc:0.707009+0.00476171\ttest-auc:0.699824+0.0228616\n",
      "[5]\ttrain-auc:0.709677+0.0088573\ttest-auc:0.706293+0.0194959\n",
      "[6]\ttrain-auc:0.717521+0.00633792\ttest-auc:0.71051+0.017332\n",
      "[7]\ttrain-auc:0.722956+0.00602538\ttest-auc:0.716068+0.0119918\n",
      "[8]\ttrain-auc:0.72828+0.00526188\ttest-auc:0.719139+0.0142862\n",
      "[9]\ttrain-auc:0.730741+0.00282781\ttest-auc:0.722359+0.0159838\n",
      "[10]\ttrain-auc:0.732786+0.00310568\ttest-auc:0.722225+0.0149809\n",
      "[11]\ttrain-auc:0.732575+0.0028977\ttest-auc:0.722007+0.0145035\n",
      "[12]\ttrain-auc:0.735967+0.00396502\ttest-auc:0.724443+0.0152785\n",
      "[13]\ttrain-auc:0.737411+0.00301909\ttest-auc:0.725439+0.0137287\n",
      "[14]\ttrain-auc:0.739475+0.00301422\ttest-auc:0.727905+0.0133855\n",
      "[15]\ttrain-auc:0.740948+0.00344662\ttest-auc:0.729683+0.0131901\n",
      "[16]\ttrain-auc:0.742556+0.00340017\ttest-auc:0.731679+0.014063\n",
      "[17]\ttrain-auc:0.743396+0.0033035\ttest-auc:0.731337+0.0143985\n",
      "[18]\ttrain-auc:0.744054+0.0032996\ttest-auc:0.731384+0.0137512\n",
      "[19]\ttrain-auc:0.744766+0.00360517\ttest-auc:0.730851+0.015728\n",
      "[20]\ttrain-auc:0.745964+0.0028745\ttest-auc:0.731765+0.0158126\n",
      "[21]\ttrain-auc:0.746612+0.00327755\ttest-auc:0.732209+0.0164812\n",
      "[22]\ttrain-auc:0.746974+0.00383439\ttest-auc:0.731598+0.0174328\n",
      "[23]\ttrain-auc:0.747763+0.00400732\ttest-auc:0.731914+0.0166009\n",
      "[24]\ttrain-auc:0.749865+0.0041581\ttest-auc:0.733487+0.0141888\n",
      "[25]\ttrain-auc:0.749968+0.00433407\ttest-auc:0.732928+0.0143855\n",
      "[26]\ttrain-auc:0.751242+0.00409356\ttest-auc:0.734227+0.0139675\n",
      "[27]\ttrain-auc:0.752641+0.00375447\ttest-auc:0.73504+0.0135305\n",
      "[28]\ttrain-auc:0.752994+0.00417809\ttest-auc:0.735117+0.0129374\n",
      "[29]\ttrain-auc:0.753448+0.00372991\ttest-auc:0.735179+0.0129158\n",
      "[30]\ttrain-auc:0.753894+0.00346647\ttest-auc:0.735779+0.0127845\n",
      "[31]\ttrain-auc:0.75477+0.00369469\ttest-auc:0.736846+0.0130594\n",
      "[32]\ttrain-auc:0.755474+0.00368908\ttest-auc:0.737348+0.013035\n",
      "[33]\ttrain-auc:0.755939+0.00352115\ttest-auc:0.737374+0.01352\n",
      "[34]\ttrain-auc:0.75652+0.00349814\ttest-auc:0.73767+0.0131669\n",
      "[35]\ttrain-auc:0.75704+0.00330777\ttest-auc:0.738054+0.0129115\n",
      "[36]\ttrain-auc:0.757455+0.00332774\ttest-auc:0.738372+0.0129991\n",
      "[37]\ttrain-auc:0.757781+0.00316869\ttest-auc:0.738589+0.0131758\n",
      "[38]\ttrain-auc:0.758145+0.00309321\ttest-auc:0.739147+0.013867\n",
      "[39]\ttrain-auc:0.758376+0.00305931\ttest-auc:0.739972+0.013325\n",
      "[40]\ttrain-auc:0.758592+0.0032569\ttest-auc:0.739949+0.0134281\n",
      "[41]\ttrain-auc:0.758787+0.00322448\ttest-auc:0.739513+0.0130881\n",
      "[42]\ttrain-auc:0.758931+0.00323753\ttest-auc:0.739347+0.0140753\n",
      "[43]\ttrain-auc:0.759148+0.00305031\ttest-auc:0.739715+0.0138996\n",
      "[44]\ttrain-auc:0.759101+0.00319823\ttest-auc:0.739841+0.013729\n",
      "[45]\ttrain-auc:0.759164+0.00324835\ttest-auc:0.739706+0.0136075\n",
      "[46]\ttrain-auc:0.759356+0.00355776\ttest-auc:0.73963+0.0131935\n",
      "[47]\ttrain-auc:0.759656+0.00337537\ttest-auc:0.740129+0.0137742\n",
      "[48]\ttrain-auc:0.759574+0.00355275\ttest-auc:0.740258+0.0135981\n",
      "[49]\ttrain-auc:0.759971+0.00329278\ttest-auc:0.740006+0.0137396\n",
      "[50]\ttrain-auc:0.760062+0.00335227\ttest-auc:0.739933+0.0136437\n",
      "[51]\ttrain-auc:0.760201+0.0035677\ttest-auc:0.740035+0.0135161\n",
      "[52]\ttrain-auc:0.760256+0.00369966\ttest-auc:0.739871+0.0136487\n",
      "[53]\ttrain-auc:0.760261+0.00382781\ttest-auc:0.740049+0.0135139\n",
      "[54]\ttrain-auc:0.76057+0.00352196\ttest-auc:0.740203+0.0134547\n",
      "[55]\ttrain-auc:0.760591+0.00368145\ttest-auc:0.740325+0.013226\n",
      "[56]\ttrain-auc:0.760747+0.00360047\ttest-auc:0.740329+0.0131795\n",
      "[57]\ttrain-auc:0.760886+0.00354838\ttest-auc:0.740262+0.0133011\n",
      "[58]\ttrain-auc:0.761053+0.00338402\ttest-auc:0.740394+0.0134087\n",
      "[59]\ttrain-auc:0.76125+0.00327918\ttest-auc:0.740405+0.0129776\n",
      "[60]\ttrain-auc:0.761415+0.00331396\ttest-auc:0.740336+0.0129595\n",
      "[61]\ttrain-auc:0.761628+0.00328118\ttest-auc:0.740566+0.013098\n",
      "[62]\ttrain-auc:0.761679+0.0032484\ttest-auc:0.740556+0.0130474\n",
      "[63]\ttrain-auc:0.761761+0.00322453\ttest-auc:0.740377+0.0127619\n",
      "[64]\ttrain-auc:0.761987+0.00309557\ttest-auc:0.740364+0.0126263\n",
      "[65]\ttrain-auc:0.762024+0.00317889\ttest-auc:0.740522+0.0124491\n",
      "[66]\ttrain-auc:0.762014+0.00320945\ttest-auc:0.740482+0.0124558\n",
      "[67]\ttrain-auc:0.762074+0.00322865\ttest-auc:0.740502+0.0126164\n",
      "[68]\ttrain-auc:0.762135+0.0032584\ttest-auc:0.740374+0.0125417\n",
      "[69]\ttrain-auc:0.762322+0.00312768\ttest-auc:0.740259+0.0121025\n",
      "[70]\ttrain-auc:0.762496+0.00316254\ttest-auc:0.740194+0.0121998\n",
      "[71]\ttrain-auc:0.762631+0.00302828\ttest-auc:0.739969+0.0122727\n",
      "[72]\ttrain-auc:0.76281+0.00300052\ttest-auc:0.739806+0.0121902\n",
      "[73]\ttrain-auc:0.762981+0.00296295\ttest-auc:0.739567+0.0121756\n",
      "[74]\ttrain-auc:0.763033+0.00302177\ttest-auc:0.73948+0.012114\n",
      "[75]\ttrain-auc:0.763117+0.00305158\ttest-auc:0.739442+0.0120814\n",
      "[76]\ttrain-auc:0.763265+0.00312338\ttest-auc:0.739193+0.0122226\n",
      "[77]\ttrain-auc:0.763367+0.00312155\ttest-auc:0.739269+0.0122106\n",
      "[78]\ttrain-auc:0.763463+0.00317055\ttest-auc:0.739338+0.011883\n",
      "[79]\ttrain-auc:0.763555+0.00321099\ttest-auc:0.739336+0.0118124\n",
      "[80]\ttrain-auc:0.763716+0.00314543\ttest-auc:0.73922+0.0120349\n",
      "[81]\ttrain-auc:0.763796+0.00318243\ttest-auc:0.739203+0.0120937\n",
      "[82]\ttrain-auc:0.763955+0.00307088\ttest-auc:0.739143+0.0119042\n",
      "[83]\ttrain-auc:0.764052+0.00307384\ttest-auc:0.738896+0.0116794\n",
      "[84]\ttrain-auc:0.764128+0.00303075\ttest-auc:0.738841+0.0115427\n",
      "[85]\ttrain-auc:0.764137+0.00306127\ttest-auc:0.73872+0.0114571\n",
      "[86]\ttrain-auc:0.764335+0.0030646\ttest-auc:0.738559+0.0114236\n",
      "[87]\ttrain-auc:0.764427+0.00301044\ttest-auc:0.738353+0.0111635\n",
      "[88]\ttrain-auc:0.764574+0.00304974\ttest-auc:0.738139+0.011144\n",
      "[89]\ttrain-auc:0.764683+0.0029734\ttest-auc:0.738018+0.010993\n",
      "[90]\ttrain-auc:0.764836+0.00288768\ttest-auc:0.738104+0.0110771\n"
     ]
    }
   ],
   "source": [
    "params = {}\n",
    "params['objective'] = 'binary:logistic'\n",
    "params['eval_metric'] = 'auc'\n",
    "params['num of rounds'] = 300\n",
    "params['early stopping'] = 30\n",
    "params['max_depth'] = 6\n",
    "params['eta'] = 0.1\n",
    "params['subsample'] = 0.8\n",
    "params['colsample_bytree'] = 0.8\n",
    "cv_res = xgb.cv(params,train_mat,\n",
    "                num_boost_round = params['num of rounds'],nfold = params.get('nfold',5),\n",
    "                metrics = params['eval_metric'],early_stopping_rounds = params['early stopping'],\n",
    "                verbose_eval = True,\n",
    "                seed = seed)"
   ]
  },
  {
   "cell_type": "code",
   "execution_count": 108,
   "metadata": {},
   "outputs": [
    {
     "name": "stdout",
     "output_type": "stream",
     "text": [
      "best num of trees : 62\n"
     ]
    }
   ],
   "source": [
    "n_trees = cv_res.shape[0]\n",
    "print('best num of trees :',n_trees)"
   ]
  },
  {
   "cell_type": "code",
   "execution_count": 109,
   "metadata": {},
   "outputs": [
    {
     "name": "stdout",
     "output_type": "stream",
     "text": [
      "[0]\ttrain-auc:0.576045\n",
      "[1]\ttrain-auc:0.713687\n",
      "[2]\ttrain-auc:0.721111\n",
      "[3]\ttrain-auc:0.720434\n",
      "[4]\ttrain-auc:0.7205\n",
      "[5]\ttrain-auc:0.726543\n",
      "[6]\ttrain-auc:0.730708\n",
      "[7]\ttrain-auc:0.731175\n",
      "[8]\ttrain-auc:0.731734\n",
      "[9]\ttrain-auc:0.733679\n",
      "[10]\ttrain-auc:0.739023\n",
      "[11]\ttrain-auc:0.739325\n",
      "[12]\ttrain-auc:0.738813\n",
      "[13]\ttrain-auc:0.739319\n",
      "[14]\ttrain-auc:0.739641\n",
      "[15]\ttrain-auc:0.7405\n",
      "[16]\ttrain-auc:0.742671\n",
      "[17]\ttrain-auc:0.743437\n",
      "[18]\ttrain-auc:0.743631\n",
      "[19]\ttrain-auc:0.744647\n",
      "[20]\ttrain-auc:0.74587\n",
      "[21]\ttrain-auc:0.746086\n",
      "[22]\ttrain-auc:0.746827\n",
      "[23]\ttrain-auc:0.747613\n",
      "[24]\ttrain-auc:0.748258\n",
      "[25]\ttrain-auc:0.748475\n",
      "[26]\ttrain-auc:0.748359\n",
      "[27]\ttrain-auc:0.749128\n",
      "[28]\ttrain-auc:0.749154\n",
      "[29]\ttrain-auc:0.750423\n",
      "[30]\ttrain-auc:0.750357\n",
      "[31]\ttrain-auc:0.751763\n",
      "[32]\ttrain-auc:0.751931\n",
      "[33]\ttrain-auc:0.75254\n",
      "[34]\ttrain-auc:0.75231\n",
      "[35]\ttrain-auc:0.753269\n",
      "[36]\ttrain-auc:0.75379\n",
      "[37]\ttrain-auc:0.754804\n",
      "[38]\ttrain-auc:0.755175\n",
      "[39]\ttrain-auc:0.755767\n",
      "[40]\ttrain-auc:0.75565\n",
      "[41]\ttrain-auc:0.756075\n",
      "[42]\ttrain-auc:0.756153\n",
      "[43]\ttrain-auc:0.756327\n",
      "[44]\ttrain-auc:0.756365\n",
      "[45]\ttrain-auc:0.756725\n",
      "[46]\ttrain-auc:0.757056\n",
      "[47]\ttrain-auc:0.757408\n",
      "[48]\ttrain-auc:0.757464\n",
      "[49]\ttrain-auc:0.757633\n",
      "[50]\ttrain-auc:0.757832\n",
      "[51]\ttrain-auc:0.758205\n",
      "[52]\ttrain-auc:0.758373\n",
      "[53]\ttrain-auc:0.758621\n",
      "[54]\ttrain-auc:0.758573\n",
      "[55]\ttrain-auc:0.758629\n",
      "[56]\ttrain-auc:0.758712\n",
      "[57]\ttrain-auc:0.758758\n",
      "[58]\ttrain-auc:0.758687\n",
      "[59]\ttrain-auc:0.758899\n",
      "[60]\ttrain-auc:0.759008\n",
      "[61]\ttrain-auc:0.759064\n"
     ]
    }
   ],
   "source": [
    "watch = [(train_mat,'train')]\n",
    "gbt = xgb.train(params,train_mat,n_trees,watch)\n"
   ]
  },
  {
   "cell_type": "code",
   "execution_count": 119,
   "metadata": {},
   "outputs": [
    {
     "data": {
      "text/plain": [
       "<matplotlib.axes._subplots.AxesSubplot at 0x122e06f28>"
      ]
     },
     "execution_count": 119,
     "metadata": {},
     "output_type": "execute_result"
    },
    {
     "data": {
      "image/png": "[encoded data removed]",
      "text/plain": [
       "<Figure size 720x360 with 1 Axes>"
      ]
     },
     "metadata": {
      "needs_background": "light"
     },
     "output_type": "display_data"
    }
   ],
   "source": [
    "### feature importance in building model\n",
    "xgb.plot_importance(gbt, color = 'green')"
   ]
  },
  {
   "cell_type": "markdown",
   "metadata": {},
   "source": [
    "# pos ratio is only 2% which is not good if we set 0.5 as prob threshold from which the model can classify everything as neg,\n",
    "so we choose a best prob threshold to classify better based on roc curve \n",
    "\n",
    "\n",
    "\n"
   ]
  },
  {
   "cell_type": "code",
   "execution_count": 122,
   "metadata": {},
   "outputs": [
    {
     "name": "stdout",
     "output_type": "stream",
     "text": [
      "{'objective': 'binary:logistic', 'eval_metric': 'auc', 'num of rounds': 300, 'early stopping': 30, 'max_depth': 6, 'eta': 0.1, 'subsample': 0.8, 'colsample_bytree': 0.8}\n"
     ]
    }
   ],
   "source": [
    "print(params)"
   ]
  },
  {
   "cell_type": "code",
   "execution_count": 125,
   "metadata": {},
   "outputs": [],
   "source": [
    "def validation_roc():\n",
    "    X_train, X_valid, y_train, y_valid  = train_test_split(Xtrain,ytrain, test_size = 0.2,random_state =seed)\n",
    "    train_matrix = xgb.DMatrix(X_train,y_train)\n",
    "    valid_mat = xgb.DMatrix(X_valid)\n",
    "    ##retrain\n",
    "    gbt_train = xgb.train(params,train_matrix,n_trees)\n",
    "    y_prob_predict = gbt_train.predict(valid_mat,ntree_limit = n_trees)\n",
    "    d = {}\n",
    "    d['FPR'], d['TPR'],d['Threshold'] =roc_curve(y_valid,y_prob_predict)\n",
    "    return pd.DataFrame(d)\n"
   ]
  },
  {
   "cell_type": "code",
   "execution_count": 127,
   "metadata": {},
   "outputs": [
    {
     "name": "stderr",
     "output_type": "stream",
     "text": [
      "/usr/local/lib/python3.7/site-packages/xgboost/core.py:587: FutureWarning: Series.base is deprecated and will be removed in a future version\n",
      "  if getattr(data, 'base', None) is not None and \\\n"
     ]
    },
    {
     "data": {
      "text/plain": [
       "Text(0, 0.5, 'TPR')"
      ]
     },
     "execution_count": 127,
     "metadata": {},
     "output_type": "execute_result"
    },
    {
     "data": {
      "image/png": "[encoded data removed]",
      "text/plain": [
       "<Figure size 720x360 with 1 Axes>"
      ]
     },
     "metadata": {
      "needs_background": "light"
     },
     "output_type": "display_data"
    }
   ],
   "source": [
    "roc_res = validation_roc()\n",
    "_ = plt.figure()\n",
    "plt.plot(roc_res.FPR, roc_res.TPR)\n",
    "plt.xlabel(\"FPR\")\n",
    "plt.ylabel(\"TPR\")\n"
   ]
  },
  {
   "cell_type": "markdown",
   "metadata": {},
   "source": [
    "# from fig we can choose tpr as 0.6, fpr as 0.3"
   ]
  },
  {
   "cell_type": "code",
   "execution_count": 128,
   "metadata": {},
   "outputs": [
    {
     "data": {
      "text/html": [
       "<div>\n",
       "<style scoped>\n",
       "    .dataframe tbody tr th:only-of-type {\n",
       "        vertical-align: middle;\n",
       "    }\n",
       "\n",
       "    .dataframe tbody tr th {\n",
       "        vertical-align: top;\n",
       "    }\n",
       "\n",
       "    .dataframe thead th {\n",
       "        text-align: right;\n",
       "    }\n",
       "</style>\n",
       "<table border=\"1\" class=\"dataframe\">\n",
       "  <thead>\n",
       "    <tr style=\"text-align: right;\">\n",
       "      <th></th>\n",
       "      <th>FPR</th>\n",
       "      <th>TPR</th>\n",
       "      <th>Threshold</th>\n",
       "    </tr>\n",
       "  </thead>\n",
       "  <tbody>\n",
       "    <tr>\n",
       "      <th>189</th>\n",
       "      <td>0.290071</td>\n",
       "      <td>0.600683</td>\n",
       "      <td>0.026722</td>\n",
       "    </tr>\n",
       "    <tr>\n",
       "      <th>190</th>\n",
       "      <td>0.290217</td>\n",
       "      <td>0.600683</td>\n",
       "      <td>0.026694</td>\n",
       "    </tr>\n",
       "    <tr>\n",
       "      <th>191</th>\n",
       "      <td>0.290727</td>\n",
       "      <td>0.604096</td>\n",
       "      <td>0.026548</td>\n",
       "    </tr>\n",
       "    <tr>\n",
       "      <th>192</th>\n",
       "      <td>0.294156</td>\n",
       "      <td>0.604096</td>\n",
       "      <td>0.026464</td>\n",
       "    </tr>\n",
       "    <tr>\n",
       "      <th>193</th>\n",
       "      <td>0.295032</td>\n",
       "      <td>0.604096</td>\n",
       "      <td>0.026388</td>\n",
       "    </tr>\n",
       "    <tr>\n",
       "      <th>194</th>\n",
       "      <td>0.308601</td>\n",
       "      <td>0.604096</td>\n",
       "      <td>0.026338</td>\n",
       "    </tr>\n",
       "    <tr>\n",
       "      <th>195</th>\n",
       "      <td>0.308893</td>\n",
       "      <td>0.604096</td>\n",
       "      <td>0.026255</td>\n",
       "    </tr>\n",
       "    <tr>\n",
       "      <th>196</th>\n",
       "      <td>0.311082</td>\n",
       "      <td>0.604096</td>\n",
       "      <td>0.026154</td>\n",
       "    </tr>\n",
       "    <tr>\n",
       "      <th>197</th>\n",
       "      <td>0.312176</td>\n",
       "      <td>0.607509</td>\n",
       "      <td>0.026106</td>\n",
       "    </tr>\n",
       "    <tr>\n",
       "      <th>198</th>\n",
       "      <td>0.316262</td>\n",
       "      <td>0.621160</td>\n",
       "      <td>0.025640</td>\n",
       "    </tr>\n",
       "    <tr>\n",
       "      <th>199</th>\n",
       "      <td>0.328299</td>\n",
       "      <td>0.641638</td>\n",
       "      <td>0.025587</td>\n",
       "    </tr>\n",
       "    <tr>\n",
       "      <th>200</th>\n",
       "      <td>0.329029</td>\n",
       "      <td>0.641638</td>\n",
       "      <td>0.025562</td>\n",
       "    </tr>\n",
       "    <tr>\n",
       "      <th>201</th>\n",
       "      <td>0.329613</td>\n",
       "      <td>0.641638</td>\n",
       "      <td>0.025475</td>\n",
       "    </tr>\n",
       "    <tr>\n",
       "      <th>202</th>\n",
       "      <td>0.329904</td>\n",
       "      <td>0.641638</td>\n",
       "      <td>0.025229</td>\n",
       "    </tr>\n",
       "    <tr>\n",
       "      <th>203</th>\n",
       "      <td>0.330269</td>\n",
       "      <td>0.641638</td>\n",
       "      <td>0.025142</td>\n",
       "    </tr>\n",
       "    <tr>\n",
       "      <th>204</th>\n",
       "      <td>0.331291</td>\n",
       "      <td>0.645051</td>\n",
       "      <td>0.025121</td>\n",
       "    </tr>\n",
       "    <tr>\n",
       "      <th>205</th>\n",
       "      <td>0.331728</td>\n",
       "      <td>0.645051</td>\n",
       "      <td>0.024817</td>\n",
       "    </tr>\n",
       "  </tbody>\n",
       "</table>\n",
       "</div>"
      ],
      "text/plain": [
       "          FPR       TPR  Threshold\n",
       "189  0.290071  0.600683   0.026722\n",
       "190  0.290217  0.600683   0.026694\n",
       "191  0.290727  0.604096   0.026548\n",
       "192  0.294156  0.604096   0.026464\n",
       "193  0.295032  0.604096   0.026388\n",
       "194  0.308601  0.604096   0.026338\n",
       "195  0.308893  0.604096   0.026255\n",
       "196  0.311082  0.604096   0.026154\n",
       "197  0.312176  0.607509   0.026106\n",
       "198  0.316262  0.621160   0.025640\n",
       "199  0.328299  0.641638   0.025587\n",
       "200  0.329029  0.641638   0.025562\n",
       "201  0.329613  0.641638   0.025475\n",
       "202  0.329904  0.641638   0.025229\n",
       "203  0.330269  0.641638   0.025142\n",
       "204  0.331291  0.645051   0.025121\n",
       "205  0.331728  0.645051   0.024817"
      ]
     },
     "execution_count": 128,
     "metadata": {},
     "output_type": "execute_result"
    }
   ],
   "source": [
    "roc_res.loc[(roc_res.TPR>0.6)& (roc_res.TPR<0.65),:]\n",
    "\n"
   ]
  },
  {
   "cell_type": "code",
   "execution_count": 129,
   "metadata": {},
   "outputs": [],
   "source": [
    "### fpr = 0.328299, tpr = 0.641638, threshold = 0.025587\n",
    "pos_prob = 0.025587\n",
    "\n",
    "def predict_var(mat):\n",
    "    y_prob=gbt.predict(mat,ntree_limit = n_trees)\n",
    "    return (y_prob>pos_prob).astype(int)\n"
   ]
  },
  {
   "cell_type": "code",
   "execution_count": 130,
   "metadata": {},
   "outputs": [
    {
     "name": "stdout",
     "output_type": "stream",
     "text": [
      "              precision    recall  f1-score   support\n",
      "\n",
      "           0       0.99      0.69      0.82     68539\n",
      "           1       0.04      0.67      0.08      1461\n",
      "\n",
      "   micro avg       0.69      0.69      0.69     70000\n",
      "   macro avg       0.52      0.68      0.45     70000\n",
      "weighted avg       0.97      0.69      0.80     70000\n",
      "\n"
     ]
    }
   ],
   "source": [
    "ytrain_pred = predict_var(train_mat)\n",
    "print(classification_report(ytrain,ytrain_pred))"
   ]
  },
  {
   "cell_type": "code",
   "execution_count": 131,
   "metadata": {},
   "outputs": [
    {
     "name": "stdout",
     "output_type": "stream",
     "text": [
      "              precision    recall  f1-score   support\n",
      "\n",
      "           0       0.99      0.69      0.81     29342\n",
      "           1       0.04      0.63      0.08       658\n",
      "\n",
      "   micro avg       0.69      0.69      0.69     30000\n",
      "   macro avg       0.52      0.66      0.45     30000\n",
      "weighted avg       0.97      0.69      0.80     30000\n",
      "\n"
     ]
    }
   ],
   "source": [
    "ytest_pred = predict_var(test_mat)\n",
    "print(classification_report(ytest,ytest_pred))"
   ]
  },
  {
   "cell_type": "code",
   "execution_count": 134,
   "metadata": {},
   "outputs": [
    {
     "name": "stdout",
     "output_type": "stream",
     "text": [
      "precison score: 4.378412431751364\n",
      "recall % : 63.37386018237082\n"
     ]
    }
   ],
   "source": [
    "print('precison score:',precision_score(ytest, ytest_pred)*100)\n",
    "print('recall % :',recall_score(ytest,ytest_pred)*100)"
   ]
  },
  {
   "cell_type": "markdown",
   "metadata": {},
   "source": [
    "# Q 3) VP of marketing wants to know how to improve the click% using the model and how to test that\n",
    "Ans: send mails only based on GBM model prediction and compare the results"
   ]
  },
  {
   "cell_type": "code",
   "execution_count": 136,
   "metadata": {},
   "outputs": [
    {
     "data": {
      "text/plain": [
       "emails old way    30000.000000\n",
       "emails new way     9524.000000\n",
       "savings %            68.253333\n",
       "dtype: float64"
      ]
     },
     "execution_count": 136,
     "metadata": {},
     "output_type": "execute_result"
    }
   ],
   "source": [
    "n_old_emails = ytest_pred.shape[0]\n",
    "n_emails_new = ytest_pred.sum()\n",
    "savings = 100- n_emails_new * 100/n_old_emails\n",
    "pd.Series({'emails old way': n_old_emails,\n",
    "          'emails new way' : n_emails_new,\n",
    "          'savings %': savings})"
   ]
  },
  {
   "cell_type": "markdown",
   "metadata": {},
   "source": [
    "# Finally model test : Statistical test (A/B test)\n",
    "    1. divide into 2 grps , existing and new\n",
    "    2. In existing grp send the emails old way\n",
    "    3. In new grp send to  pos predicted emails\n",
    "    4. compare 2 grps using t-test one-sided using the population proportion results"
   ]
  },
  {
   "cell_type": "code",
   "execution_count": null,
   "metadata": {},
   "outputs": [],
   "source": []
  },
  {
   "cell_type": "code",
   "execution_count": null,
   "metadata": {},
   "outputs": [],
   "source": []
  },
  {
   "cell_type": "code",
   "execution_count": null,
   "metadata": {},
   "outputs": [],
   "source": []
  },
  {
   "cell_type": "code",
   "execution_count": null,
   "metadata": {},
   "outputs": [],
   "source": []
  },
  {
   "cell_type": "code",
   "execution_count": null,
   "metadata": {},
   "outputs": [],
   "source": []
  },
  {
   "cell_type": "code",
   "execution_count": null,
   "metadata": {},
   "outputs": [],
   "source": []
  }
 ],
 "metadata": {
  "kernelspec": {
   "display_name": "Python 3",
   "language": "python",
   "name": "python3"
  },
  "language_info": {
   "codemirror_mode": {
    "name": "ipython",
    "version": 3
   },
   "file_extension": ".py",
   "mimetype": "text/x-python",
   "name": "python",
   "nbconvert_exporter": "python",
   "pygments_lexer": "ipython3",
   "version": "3.7.2"
  }
 },
 "nbformat": 4,
 "nbformat_minor": 2
}
