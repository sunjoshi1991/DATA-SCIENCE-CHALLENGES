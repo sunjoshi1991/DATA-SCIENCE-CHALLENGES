{
 "cells": [
  {
   "cell_type": "code",
   "execution_count": 43,
   "metadata": {},
   "outputs": [],
   "source": [
    "### import required libraries\n",
    "import itertools\n",
    "from collections import defaultdict\n",
    "import numpy as np\n",
    "import pandas as pd\n",
    "import matplotlib.pyplot as plt\n",
    "%matplotlib inline\n",
    "plt.style.use('ggplot')\n",
    "import seaborn as sns\n",
    "sns.set_context('notebook')\n",
    "from sklearn.decomposition import PCA\n",
    "from sklearn.preprocessing import scale\n",
    "from sklearn.cluster import KMeans"
   ]
  },
  {
   "cell_type": "code",
   "execution_count": 44,
   "metadata": {},
   "outputs": [
    {
     "name": "stdout",
     "output_type": "stream",
     "text": [
      "                      city state  zipcode  credit_card_limit\n",
      "credit_card                                                 \n",
      "1280981422329509    Dallas    PA    18612               6000\n",
      "9737219864179988   Houston    PA    15342              16000\n",
      "4749889059323202    Auburn    MA     1501              14000\n",
      "9591503562024072   Orlando    WV    26412              18000\n",
      "2095640259001271  New York    NY    10001              20000 /n\n",
      "        credit_card                 date  transaction_dollar_amount  \\\n",
      "0  1003715054175576  2015-09-11 00:32:40                      43.78   \n",
      "1  1003715054175576  2015-10-24 22:23:08                     103.15   \n",
      "2  1003715054175576  2015-10-26 18:19:36                      48.55   \n",
      "3  1003715054175576  2015-10-22 19:41:10                     136.18   \n",
      "4  1003715054175576  2015-10-26 20:08:22                      71.82   \n",
      "\n",
      "        Long        Lat  \n",
      "0 -80.174132  40.267370  \n",
      "1 -80.194240  40.180114  \n",
      "2 -80.211033  40.313004  \n",
      "3 -80.174138  40.290895  \n",
      "4 -80.238720  40.166719  \n"
     ]
    }
   ],
   "source": [
    "### read credit card data and transactions data\n",
    "cc_data = pd.read_csv('cc_info.csv', index_col = 'credit_card')\n",
    "transac_data = pd.read_csv('transactions.csv')\n",
    "\n",
    "print(cc_data.head(), '/n')\n",
    "print(transac_data.head())"
   ]
  },
  {
   "cell_type": "code",
   "execution_count": 45,
   "metadata": {},
   "outputs": [],
   "source": [
    "## convert to pandas datetime\n",
    "transac_data['date'] = pd.to_datetime(transac_data.date)"
   ]
  },
  {
   "cell_type": "markdown",
   "metadata": {},
   "source": [
    "# Q-1 : Your boss wants to identify those users that in your dataset never went above \n",
    "###   the monthly credit card limit (calendar month).\n",
    "####   The goal of this is to automatically increase their limit. Can you send him the list of Ids?"
   ]
  },
  {
   "cell_type": "code",
   "execution_count": 47,
   "metadata": {},
   "outputs": [
    {
     "data": {
      "text/plain": [
       "2015    294588\n",
       "Name: date, dtype: int64"
      ]
     },
     "execution_count": 47,
     "metadata": {},
     "output_type": "execute_result"
    }
   ],
   "source": [
    "###look at counts for the whole year\n",
    "transac_data.date.dt.year.value_counts()"
   ]
  },
  {
   "cell_type": "code",
   "execution_count": 48,
   "metadata": {},
   "outputs": [],
   "source": [
    "### group by $-amount per month\n",
    "def monthly(df):\n",
    "    return df.groupby(df.date.dt.month)['transaction_dollar_amount'].agg('sum')"
   ]
  },
  {
   "cell_type": "code",
   "execution_count": 49,
   "metadata": {},
   "outputs": [],
   "source": [
    "## credit card montlhy spends\n",
    "cc_monthly_spends = transac_data.groupby('credit_card').apply(monthly).unstack(fill_value = 0)\n"
   ]
  },
  {
   "cell_type": "code",
   "execution_count": 50,
   "metadata": {},
   "outputs": [
    {
     "data": {
      "text/html": [
       "<div>\n",
       "<style scoped>\n",
       "    .dataframe tbody tr th:only-of-type {\n",
       "        vertical-align: middle;\n",
       "    }\n",
       "\n",
       "    .dataframe tbody tr th {\n",
       "        vertical-align: top;\n",
       "    }\n",
       "\n",
       "    .dataframe thead th {\n",
       "        text-align: right;\n",
       "    }\n",
       "</style>\n",
       "<table border=\"1\" class=\"dataframe\">\n",
       "  <thead>\n",
       "    <tr style=\"text-align: right;\">\n",
       "      <th></th>\n",
       "      <th>7</th>\n",
       "      <th>8</th>\n",
       "      <th>9</th>\n",
       "      <th>10</th>\n",
       "      <th>credit_card_limit</th>\n",
       "    </tr>\n",
       "    <tr>\n",
       "      <th>credit_card</th>\n",
       "      <th></th>\n",
       "      <th></th>\n",
       "      <th></th>\n",
       "      <th></th>\n",
       "      <th></th>\n",
       "    </tr>\n",
       "  </thead>\n",
       "  <tbody>\n",
       "    <tr>\n",
       "      <th>1003715054175576</th>\n",
       "      <td>162.56</td>\n",
       "      <td>8441.51</td>\n",
       "      <td>11281.56</td>\n",
       "      <td>8954.21</td>\n",
       "      <td>20000</td>\n",
       "    </tr>\n",
       "    <tr>\n",
       "      <th>1013870087888817</th>\n",
       "      <td>281.43</td>\n",
       "      <td>11981.15</td>\n",
       "      <td>12461.96</td>\n",
       "      <td>12090.34</td>\n",
       "      <td>15000</td>\n",
       "    </tr>\n",
       "    <tr>\n",
       "      <th>1023820165155391</th>\n",
       "      <td>943.26</td>\n",
       "      <td>22741.20</td>\n",
       "      <td>18108.12</td>\n",
       "      <td>19259.98</td>\n",
       "      <td>28000</td>\n",
       "    </tr>\n",
       "    <tr>\n",
       "      <th>1073931538936472</th>\n",
       "      <td>220.07</td>\n",
       "      <td>2991.05</td>\n",
       "      <td>2557.12</td>\n",
       "      <td>1638.03</td>\n",
       "      <td>10000</td>\n",
       "    </tr>\n",
       "    <tr>\n",
       "      <th>1077622576192810</th>\n",
       "      <td>0.00</td>\n",
       "      <td>634.61</td>\n",
       "      <td>551.28</td>\n",
       "      <td>604.84</td>\n",
       "      <td>10000</td>\n",
       "    </tr>\n",
       "  </tbody>\n",
       "</table>\n",
       "</div>"
      ],
      "text/plain": [
       "                       7         8         9        10  credit_card_limit\n",
       "credit_card                                                              \n",
       "1003715054175576  162.56   8441.51  11281.56   8954.21              20000\n",
       "1013870087888817  281.43  11981.15  12461.96  12090.34              15000\n",
       "1023820165155391  943.26  22741.20  18108.12  19259.98              28000\n",
       "1073931538936472  220.07   2991.05   2557.12   1638.03              10000\n",
       "1077622576192810    0.00    634.61    551.28    604.84              10000"
      ]
     },
     "execution_count": 50,
     "metadata": {},
     "output_type": "execute_result"
    }
   ],
   "source": [
    "##join with crdit limit\n",
    "cc_monthly_spends = cc_monthly_spends.join(cc_data.credit_card_limit)\n",
    "cc_monthly_spends.head()"
   ]
  },
  {
   "cell_type": "code",
   "execution_count": 38,
   "metadata": {},
   "outputs": [
    {
     "name": "stdout",
     "output_type": "stream",
     "text": [
      "4\n"
     ]
    },
    {
     "data": {
      "text/plain": [
       "Int64Index([1003715054175576, 1013870087888817, 1023820165155391,\n",
       "            1073931538936472, 1077622576192810, 1087468642191606,\n",
       "            1089479586475600, 1101164752077181, 1107936587129946,\n",
       "            1126571863414211,\n",
       "            ...\n",
       "            9854872265114976, 9855217884613002, 9867492085978660,\n",
       "            9884182241594028, 9938969980242308, 9946917923319410,\n",
       "            9958678964376192, 9961694231875562, 9981251982982618,\n",
       "            9986135779184360],\n",
       "           dtype='int64', name='credit_card', length=862)"
      ]
     },
     "execution_count": 38,
     "metadata": {},
     "output_type": "execute_result"
    }
   ],
   "source": [
    "### check each user has exceede his limit \n",
    "num_months = cc_monthly_spends.shape[1]-1\n",
    "print(num_months)\n",
    "\n",
    "def limit_exceed(p):\n",
    "    lim = p.loc['credit_card_limit']\n",
    "    return (p.iloc[0:num_months]<= lim).all()\n",
    "\n",
    "cust_lim_exceed = cc_monthly_spends.apply(limit_exceed, axis = 1)\n",
    "cust_lim_not_exceed = cc_monthly_spends.loc[cust_lim_exceed, :].index\n",
    "\n",
    "cust_lim_not_exceed"
   ]
  },
  {
   "cell_type": "markdown",
   "metadata": {},
   "source": [
    "# Q-2 : On the other hand, she wants you to implement an algorithm that as soon as a user goes above her monthly limit,\n",
    "### it triggers an alert so that the user can be notiﬁed about that.\n",
    "### We assume here that at the beginning of the new month, \n",
    "###user total money spent gets reset to zero (i.e. she pays the card fully at the end of each month). \n",
    "###Build a function that for each day, returns a list of users who went above their credit card monthly limit on that day."
   ]
  },
  {
   "cell_type": "code",
   "execution_count": 54,
   "metadata": {},
   "outputs": [],
   "source": [
    "### fucntion to know limit of a day\n",
    "class montlhyspent():\n",
    "    def __init__(self,cc_limit):\n",
    "        self.total_spent = defaultdict(float)\n",
    "        self.cc_limit = cc_limit\n",
    "    def reset(self):\n",
    "        self.total_spent.clear()\n",
    "    \n",
    "    def count(self, daily_transactions):\n",
    "        for cc_num, amount in daily_transactions:\n",
    "            self.total_spent[cc_num] +=amount\n",
    "        for cc_num , toatl in self.total_spent.viewitems():\n",
    "            if total > self.cc_limit[cc_num]:\n",
    "                return cc_num"
   ]
  },
  {
   "cell_type": "markdown",
   "metadata": {},
   "source": [
    "# Q-3 Finally, your boss is very concerned about frauds cause they are a huge cost for credit card companies.\n",
    "#### She wants you to implement an unsupervised algorithm  \n",
    "### that returns all transactions that seem unusual and are worth being investigated further."
   ]
  },
  {
   "cell_type": "code",
   "execution_count": 52,
   "metadata": {},
   "outputs": [],
   "source": [
    "### see what the statistics of dolar amount \n",
    "def cc_stats(s):\n",
    "    per = [25,50,75]\n",
    "    d = np.percentile(s,per)\n",
    "    return pd.Series(d,index = ['{}%'.format(p) for p in per])\n",
    "transactions = transac_data.groupby('credit_card')['transaction_dollar_amount'].apply(cc_stats).unstack()\n",
    "    "
   ]
  },
  {
   "cell_type": "code",
   "execution_count": 53,
   "metadata": {},
   "outputs": [
    {
     "data": {
      "text/html": [
       "<div>\n",
       "<style scoped>\n",
       "    .dataframe tbody tr th:only-of-type {\n",
       "        vertical-align: middle;\n",
       "    }\n",
       "\n",
       "    .dataframe tbody tr th {\n",
       "        vertical-align: top;\n",
       "    }\n",
       "\n",
       "    .dataframe thead th {\n",
       "        text-align: right;\n",
       "    }\n",
       "</style>\n",
       "<table border=\"1\" class=\"dataframe\">\n",
       "  <thead>\n",
       "    <tr style=\"text-align: right;\">\n",
       "      <th></th>\n",
       "      <th>25%</th>\n",
       "      <th>50%</th>\n",
       "      <th>75%</th>\n",
       "    </tr>\n",
       "    <tr>\n",
       "      <th>credit_card</th>\n",
       "      <th></th>\n",
       "      <th></th>\n",
       "      <th></th>\n",
       "    </tr>\n",
       "  </thead>\n",
       "  <tbody>\n",
       "    <tr>\n",
       "      <th>1003715054175576</th>\n",
       "      <td>59.01</td>\n",
       "      <td>93.73</td>\n",
       "      <td>124.63</td>\n",
       "    </tr>\n",
       "    <tr>\n",
       "      <th>1013870087888817</th>\n",
       "      <td>58.09</td>\n",
       "      <td>87.67</td>\n",
       "      <td>128.02</td>\n",
       "    </tr>\n",
       "    <tr>\n",
       "      <th>1023820165155391</th>\n",
       "      <td>55.43</td>\n",
       "      <td>85.78</td>\n",
       "      <td>122.83</td>\n",
       "    </tr>\n",
       "    <tr>\n",
       "      <th>1073931538936472</th>\n",
       "      <td>108.08</td>\n",
       "      <td>147.19</td>\n",
       "      <td>194.83</td>\n",
       "    </tr>\n",
       "    <tr>\n",
       "      <th>1077622576192810</th>\n",
       "      <td>122.93</td>\n",
       "      <td>148.18</td>\n",
       "      <td>160.11</td>\n",
       "    </tr>\n",
       "  </tbody>\n",
       "</table>\n",
       "</div>"
      ],
      "text/plain": [
       "                     25%     50%     75%\n",
       "credit_card                             \n",
       "1003715054175576   59.01   93.73  124.63\n",
       "1013870087888817   58.09   87.67  128.02\n",
       "1023820165155391   55.43   85.78  122.83\n",
       "1073931538936472  108.08  147.19  194.83\n",
       "1077622576192810  122.93  148.18  160.11"
      ]
     },
     "execution_count": 53,
     "metadata": {},
     "output_type": "execute_result"
    }
   ],
   "source": [
    "transactions.head()"
   ]
  },
  {
   "cell_type": "code",
   "execution_count": 58,
   "metadata": {},
   "outputs": [
    {
     "data": {
      "text/html": [
       "<div>\n",
       "<style scoped>\n",
       "    .dataframe tbody tr th:only-of-type {\n",
       "        vertical-align: middle;\n",
       "    }\n",
       "\n",
       "    .dataframe tbody tr th {\n",
       "        vertical-align: top;\n",
       "    }\n",
       "\n",
       "    .dataframe thead th {\n",
       "        text-align: right;\n",
       "    }\n",
       "</style>\n",
       "<table border=\"1\" class=\"dataframe\">\n",
       "  <thead>\n",
       "    <tr style=\"text-align: right;\">\n",
       "      <th></th>\n",
       "      <th>credit_card</th>\n",
       "      <th>date</th>\n",
       "      <th>transaction_dollar_amount</th>\n",
       "      <th>Long</th>\n",
       "      <th>Lat</th>\n",
       "      <th>25%</th>\n",
       "      <th>50%</th>\n",
       "      <th>75%</th>\n",
       "      <th>credit_card_limit</th>\n",
       "    </tr>\n",
       "  </thead>\n",
       "  <tbody>\n",
       "    <tr>\n",
       "      <th>294583</th>\n",
       "      <td>9999757432802760</td>\n",
       "      <td>2015-09-10 19:43:33</td>\n",
       "      <td>127.23</td>\n",
       "      <td>-82.360952</td>\n",
       "      <td>32.978497</td>\n",
       "      <td>83.74</td>\n",
       "      <td>130.94</td>\n",
       "      <td>177.905</td>\n",
       "      <td>6000</td>\n",
       "    </tr>\n",
       "    <tr>\n",
       "      <th>294584</th>\n",
       "      <td>9999757432802760</td>\n",
       "      <td>2015-08-06 21:00:13</td>\n",
       "      <td>84.90</td>\n",
       "      <td>-82.322721</td>\n",
       "      <td>33.061071</td>\n",
       "      <td>83.74</td>\n",
       "      <td>130.94</td>\n",
       "      <td>177.905</td>\n",
       "      <td>6000</td>\n",
       "    </tr>\n",
       "    <tr>\n",
       "      <th>294585</th>\n",
       "      <td>9999757432802760</td>\n",
       "      <td>2015-09-22 16:15:47</td>\n",
       "      <td>77.54</td>\n",
       "      <td>-82.442130</td>\n",
       "      <td>32.949983</td>\n",
       "      <td>83.74</td>\n",
       "      <td>130.94</td>\n",
       "      <td>177.905</td>\n",
       "      <td>6000</td>\n",
       "    </tr>\n",
       "    <tr>\n",
       "      <th>294586</th>\n",
       "      <td>9999757432802760</td>\n",
       "      <td>2015-08-27 18:08:24</td>\n",
       "      <td>144.05</td>\n",
       "      <td>-82.398587</td>\n",
       "      <td>32.976162</td>\n",
       "      <td>83.74</td>\n",
       "      <td>130.94</td>\n",
       "      <td>177.905</td>\n",
       "      <td>6000</td>\n",
       "    </tr>\n",
       "    <tr>\n",
       "      <th>294587</th>\n",
       "      <td>9999757432802760</td>\n",
       "      <td>2015-08-22 00:14:52</td>\n",
       "      <td>154.36</td>\n",
       "      <td>-82.389680</td>\n",
       "      <td>33.068351</td>\n",
       "      <td>83.74</td>\n",
       "      <td>130.94</td>\n",
       "      <td>177.905</td>\n",
       "      <td>6000</td>\n",
       "    </tr>\n",
       "  </tbody>\n",
       "</table>\n",
       "</div>"
      ],
      "text/plain": [
       "             credit_card                date  transaction_dollar_amount  \\\n",
       "294583  9999757432802760 2015-09-10 19:43:33                     127.23   \n",
       "294584  9999757432802760 2015-08-06 21:00:13                      84.90   \n",
       "294585  9999757432802760 2015-09-22 16:15:47                      77.54   \n",
       "294586  9999757432802760 2015-08-27 18:08:24                     144.05   \n",
       "294587  9999757432802760 2015-08-22 00:14:52                     154.36   \n",
       "\n",
       "             Long        Lat    25%     50%      75%  credit_card_limit  \n",
       "294583 -82.360952  32.978497  83.74  130.94  177.905               6000  \n",
       "294584 -82.322721  33.061071  83.74  130.94  177.905               6000  \n",
       "294585 -82.442130  32.949983  83.74  130.94  177.905               6000  \n",
       "294586 -82.398587  32.976162  83.74  130.94  177.905               6000  \n",
       "294587 -82.389680  33.068351  83.74  130.94  177.905               6000  "
      ]
     },
     "execution_count": 58,
     "metadata": {},
     "output_type": "execute_result"
    }
   ],
   "source": [
    "### merge with consumption stats\n",
    "prev_consptn = pd.merge(transac_data,transactions,how = 'left',left_on = 'credit_card',right_index = True)\n",
    "\n",
    "### merge with cc_limit\n",
    "cc_limit_concat = pd.merge(prev_consptn,cc_data.loc[:,['credit_card_limit']], how= 'left',left_on='credit_card',right_index=True)\n",
    "cc_limit_concat.tail()"
   ]
  },
  {
   "cell_type": "code",
   "execution_count": 59,
   "metadata": {},
   "outputs": [],
   "source": [
    "cc_limit_concat.to_csv('tran_history.csv', index = False)\n"
   ]
  },
  {
   "cell_type": "markdown",
   "metadata": {},
   "source": [
    "# reducing dimensions by considering only few features"
   ]
  },
  {
   "cell_type": "code",
   "execution_count": 62,
   "metadata": {},
   "outputs": [
    {
     "data": {
      "text/html": [
       "<div>\n",
       "<style scoped>\n",
       "    .dataframe tbody tr th:only-of-type {\n",
       "        vertical-align: middle;\n",
       "    }\n",
       "\n",
       "    .dataframe tbody tr th {\n",
       "        vertical-align: top;\n",
       "    }\n",
       "\n",
       "    .dataframe thead th {\n",
       "        text-align: right;\n",
       "    }\n",
       "</style>\n",
       "<table border=\"1\" class=\"dataframe\">\n",
       "  <thead>\n",
       "    <tr style=\"text-align: right;\">\n",
       "      <th></th>\n",
       "      <th>transaction_dollar_amount</th>\n",
       "      <th>25%</th>\n",
       "      <th>50%</th>\n",
       "      <th>75%</th>\n",
       "      <th>credit_card_limit</th>\n",
       "    </tr>\n",
       "  </thead>\n",
       "  <tbody>\n",
       "    <tr>\n",
       "      <th>count</th>\n",
       "      <td>294588.000000</td>\n",
       "      <td>294588.000000</td>\n",
       "      <td>294588.000000</td>\n",
       "      <td>294588.000000</td>\n",
       "      <td>294588.000000</td>\n",
       "    </tr>\n",
       "    <tr>\n",
       "      <th>mean</th>\n",
       "      <td>86.008036</td>\n",
       "      <td>43.265113</td>\n",
       "      <td>69.081697</td>\n",
       "      <td>97.282645</td>\n",
       "      <td>15502.053716</td>\n",
       "    </tr>\n",
       "    <tr>\n",
       "      <th>std</th>\n",
       "      <td>124.655954</td>\n",
       "      <td>21.471896</td>\n",
       "      <td>35.160028</td>\n",
       "      <td>49.919646</td>\n",
       "      <td>7956.291556</td>\n",
       "    </tr>\n",
       "    <tr>\n",
       "      <th>min</th>\n",
       "      <td>0.010000</td>\n",
       "      <td>6.150000</td>\n",
       "      <td>7.320000</td>\n",
       "      <td>9.120000</td>\n",
       "      <td>2000.000000</td>\n",
       "    </tr>\n",
       "    <tr>\n",
       "      <th>25%</th>\n",
       "      <td>29.970000</td>\n",
       "      <td>27.960000</td>\n",
       "      <td>43.590000</td>\n",
       "      <td>60.812500</td>\n",
       "      <td>10000.000000</td>\n",
       "    </tr>\n",
       "    <tr>\n",
       "      <th>50%</th>\n",
       "      <td>58.470000</td>\n",
       "      <td>40.595000</td>\n",
       "      <td>65.190000</td>\n",
       "      <td>91.832500</td>\n",
       "      <td>15000.000000</td>\n",
       "    </tr>\n",
       "    <tr>\n",
       "      <th>75%</th>\n",
       "      <td>100.400000</td>\n",
       "      <td>56.215000</td>\n",
       "      <td>89.710000</td>\n",
       "      <td>127.345000</td>\n",
       "      <td>20000.000000</td>\n",
       "    </tr>\n",
       "    <tr>\n",
       "      <th>max</th>\n",
       "      <td>999.970000</td>\n",
       "      <td>137.690000</td>\n",
       "      <td>222.290000</td>\n",
       "      <td>318.730000</td>\n",
       "      <td>55000.000000</td>\n",
       "    </tr>\n",
       "  </tbody>\n",
       "</table>\n",
       "</div>"
      ],
      "text/plain": [
       "       transaction_dollar_amount            25%            50%            75%  \\\n",
       "count              294588.000000  294588.000000  294588.000000  294588.000000   \n",
       "mean                   86.008036      43.265113      69.081697      97.282645   \n",
       "std                   124.655954      21.471896      35.160028      49.919646   \n",
       "min                     0.010000       6.150000       7.320000       9.120000   \n",
       "25%                    29.970000      27.960000      43.590000      60.812500   \n",
       "50%                    58.470000      40.595000      65.190000      91.832500   \n",
       "75%                   100.400000      56.215000      89.710000     127.345000   \n",
       "max                   999.970000     137.690000     222.290000     318.730000   \n",
       "\n",
       "       credit_card_limit  \n",
       "count      294588.000000  \n",
       "mean        15502.053716  \n",
       "std          7956.291556  \n",
       "min          2000.000000  \n",
       "25%         10000.000000  \n",
       "50%         15000.000000  \n",
       "75%         20000.000000  \n",
       "max         55000.000000  "
      ]
     },
     "execution_count": 62,
     "metadata": {},
     "output_type": "execute_result"
    }
   ],
   "source": [
    "X = cc_limit_concat.loc[:,['transaction_dollar_amount','25%','50%','75%','credit_card_limit']]\n",
    "X.describe()"
   ]
  },
  {
   "cell_type": "code",
   "execution_count": 71,
   "metadata": {},
   "outputs": [
    {
     "name": "stdout",
     "output_type": "stream",
     "text": [
      "        pc1       pc2\n",
      "0  1.184559 -0.583757\n",
      "1  1.277856 -0.117918\n",
      "2  1.192055 -0.546330\n",
      "3  1.329760  0.141247\n",
      "4  1.228622 -0.363745\n"
     ]
    },
    {
     "data": {
      "text/plain": [
       "<matplotlib.collections.PathCollection at 0x121fe65f8>"
      ]
     },
     "execution_count": 71,
     "metadata": {},
     "output_type": "execute_result"
    },
    {
     "data": {
      "image/png": "[encoded data removed]",
      "text/plain": [
       "<Figure size 432x288 with 1 Axes>"
      ]
     },
     "metadata": {},
     "output_type": "display_data"
    }
   ],
   "source": [
    "X = scale(X)\n",
    "### pca to reduce feature matrix dimensions\n",
    "pca = PCA(n_components = 2)## 2d graph\n",
    "Xd = pca.fit_transform(X)\n",
    "Xd = pd.DataFrame(Xd,columns =['pc1','pc2'])\n",
    "print(Xd.head())\n",
    "\n",
    "plt.scatter(Xd.pc1,Xd.pc2,alpha = 0.3)"
   ]
  },
  {
   "cell_type": "code",
   "execution_count": 73,
   "metadata": {},
   "outputs": [
    {
     "data": {
      "text/plain": [
       "KMeans(algorithm='auto', copy_x=True, init='k-means++', max_iter=300,\n",
       "    n_clusters=6, n_init=10, n_jobs=1, precompute_distances='auto',\n",
       "    random_state=None, tol=0.0001, verbose=0)"
      ]
     },
     "execution_count": 73,
     "metadata": {},
     "output_type": "execute_result"
    }
   ],
   "source": [
    "### cluster using Kmeans , as we see from pca plot that we can cluster into meaningful clusters\n",
    "n_clusters = 6\n",
    "kmeans = KMeans(n_clusters = n_clusters,n_jobs = 1)\n",
    "kmeans.fit(X)\n"
   ]
  },
  {
   "cell_type": "code",
   "execution_count": 75,
   "metadata": {},
   "outputs": [
    {
     "name": "stdout",
     "output_type": "stream",
     "text": [
      "0    107677\n",
      "1     73495\n",
      "4     49119\n",
      "5     33034\n",
      "2     25827\n",
      "3      5436\n",
      "Name: label, dtype: int64\n"
     ]
    }
   ],
   "source": [
    "Xd['label'] = kmeans.labels_\n",
    "print(Xd.label.value_counts())"
   ]
  },
  {
   "cell_type": "code",
   "execution_count": 80,
   "metadata": {},
   "outputs": [
    {
     "data": {
      "text/plain": [
       "<matplotlib.legend.Legend at 0x11f24b278>"
      ]
     },
     "execution_count": 80,
     "metadata": {},
     "output_type": "execute_result"
    },
    {
     "data": {
      "image/png": "[encoded data removed]",
      "text/plain": [
       "<Figure size 720x432 with 1 Axes>"
      ]
     },
     "metadata": {},
     "output_type": "display_data"
    }
   ],
   "source": [
    "#### cluster no.3 has few transactions comapred to others --- BAMMM --- FRAUD\n",
    "### plot to check the distribution of clusters\n",
    "\n",
    "colors = itertools.cycle(['r','g','b','c','m','y','k'])\n",
    "plt.rc('figure',figsize = (10,6))\n",
    "for label in range(n_clusters):\n",
    "    clust_dist = Xd.loc[Xd.label==label, :]\n",
    "    plt.scatter(clust_dist.pc1,clust_dist.pc2, c = next(colors),label = label,alpha = 0.3)\n",
    "plt.legend(loc = 'best')"
   ]
  },
  {
   "cell_type": "raw",
   "metadata": {},
   "source": [
    "Xd.head()"
   ]
  },
  {
   "cell_type": "code",
   "execution_count": 84,
   "metadata": {},
   "outputs": [
    {
     "data": {
      "text/plain": [
       "<seaborn.axisgrid.FacetGrid at 0x123a53d30>"
      ]
     },
     "execution_count": 84,
     "metadata": {},
     "output_type": "execute_result"
    },
    {
     "data": {
      "image/png": "[encoded data removed]",
      "text/plain": [
       "<Figure size 262.6x216 with 1 Axes>"
      ]
     },
     "metadata": {},
     "output_type": "display_data"
    }
   ],
   "source": [
    "grid = sns.FacetGrid(Xd,hue = 'label')\n",
    "grid.map(plt.scatter, 'pc1','pc2',alpha = 0.3)\n",
    "grid.add_legend()"
   ]
  },
  {
   "cell_type": "code",
   "execution_count": 86,
   "metadata": {},
   "outputs": [
    {
     "name": "stderr",
     "output_type": "stream",
     "text": [
      "/usr/local/lib/python3.7/site-packages/ipykernel_launcher.py:2: FutureWarning: \n",
      "The current behaviour of 'Series.argmin' is deprecated, use 'idxmin'\n",
      "instead.\n",
      "The behavior of 'argmin' will be corrected to return the positional\n",
      "minimum in the future. For now, use 'series.values.argmin' or\n",
      "'np.argmin(np.array(values))' to get the position of the minimum\n",
      "row.\n",
      "  \n"
     ]
    },
    {
     "data": {
      "text/plain": [
       "3"
      ]
     },
     "execution_count": 86,
     "metadata": {},
     "output_type": "execute_result"
    }
   ],
   "source": [
    "### check for fraud labels\n",
    "fraud_label = Xd.label.value_counts().argmin()\n",
    "\n",
    "fraud_label"
   ]
  },
  {
   "cell_type": "code",
   "execution_count": 92,
   "metadata": {},
   "outputs": [
    {
     "data": {
      "text/html": [
       "<div>\n",
       "<style scoped>\n",
       "    .dataframe tbody tr th:only-of-type {\n",
       "        vertical-align: middle;\n",
       "    }\n",
       "\n",
       "    .dataframe tbody tr th {\n",
       "        vertical-align: top;\n",
       "    }\n",
       "\n",
       "    .dataframe thead th {\n",
       "        text-align: right;\n",
       "    }\n",
       "</style>\n",
       "<table border=\"1\" class=\"dataframe\">\n",
       "  <thead>\n",
       "    <tr style=\"text-align: right;\">\n",
       "      <th></th>\n",
       "      <th>credit_card</th>\n",
       "      <th>transaction_dollar_amount</th>\n",
       "      <th>25%</th>\n",
       "      <th>50%</th>\n",
       "      <th>75%</th>\n",
       "      <th>credit_card_limit</th>\n",
       "      <th>date</th>\n",
       "    </tr>\n",
       "  </thead>\n",
       "  <tbody>\n",
       "    <tr>\n",
       "      <th>95381</th>\n",
       "      <td>3929517687134990</td>\n",
       "      <td>958.12</td>\n",
       "      <td>36.9475</td>\n",
       "      <td>60.615</td>\n",
       "      <td>80.615</td>\n",
       "      <td>10000</td>\n",
       "      <td>2015-08-22 20:56:46</td>\n",
       "    </tr>\n",
       "    <tr>\n",
       "      <th>136254</th>\n",
       "      <td>5098511582643613</td>\n",
       "      <td>845.49</td>\n",
       "      <td>40.6800</td>\n",
       "      <td>68.430</td>\n",
       "      <td>94.280</td>\n",
       "      <td>14000</td>\n",
       "      <td>2015-10-13 02:17:09</td>\n",
       "    </tr>\n",
       "    <tr>\n",
       "      <th>207792</th>\n",
       "      <td>7198750113791865</td>\n",
       "      <td>800.67</td>\n",
       "      <td>31.6800</td>\n",
       "      <td>48.310</td>\n",
       "      <td>67.690</td>\n",
       "      <td>3000</td>\n",
       "      <td>2015-09-22 22:45:50</td>\n",
       "    </tr>\n",
       "    <tr>\n",
       "      <th>186696</th>\n",
       "      <td>6497866359354370</td>\n",
       "      <td>943.32</td>\n",
       "      <td>16.0300</td>\n",
       "      <td>24.850</td>\n",
       "      <td>34.475</td>\n",
       "      <td>5000</td>\n",
       "      <td>2015-10-29 21:23:29</td>\n",
       "    </tr>\n",
       "    <tr>\n",
       "      <th>293098</th>\n",
       "      <td>9946917923319410</td>\n",
       "      <td>907.63</td>\n",
       "      <td>43.6100</td>\n",
       "      <td>76.230</td>\n",
       "      <td>102.640</td>\n",
       "      <td>15000</td>\n",
       "      <td>2015-09-26 19:18:37</td>\n",
       "    </tr>\n",
       "    <tr>\n",
       "      <th>105441</th>\n",
       "      <td>4172354071638301</td>\n",
       "      <td>829.93</td>\n",
       "      <td>56.1050</td>\n",
       "      <td>89.710</td>\n",
       "      <td>127.345</td>\n",
       "      <td>25000</td>\n",
       "      <td>2015-08-18 23:38:49</td>\n",
       "    </tr>\n",
       "    <tr>\n",
       "      <th>114457</th>\n",
       "      <td>4339853010378399</td>\n",
       "      <td>958.28</td>\n",
       "      <td>18.9450</td>\n",
       "      <td>30.670</td>\n",
       "      <td>41.540</td>\n",
       "      <td>18000</td>\n",
       "      <td>2015-09-14 19:17:44</td>\n",
       "    </tr>\n",
       "    <tr>\n",
       "      <th>178869</th>\n",
       "      <td>6239589776969686</td>\n",
       "      <td>939.84</td>\n",
       "      <td>68.5800</td>\n",
       "      <td>105.090</td>\n",
       "      <td>145.460</td>\n",
       "      <td>20000</td>\n",
       "      <td>2015-08-20 22:28:11</td>\n",
       "    </tr>\n",
       "    <tr>\n",
       "      <th>177467</th>\n",
       "      <td>6216751190381521</td>\n",
       "      <td>853.93</td>\n",
       "      <td>52.9400</td>\n",
       "      <td>87.440</td>\n",
       "      <td>126.370</td>\n",
       "      <td>10000</td>\n",
       "      <td>2015-09-24 22:15:33</td>\n",
       "    </tr>\n",
       "    <tr>\n",
       "      <th>207202</th>\n",
       "      <td>7193900293112316</td>\n",
       "      <td>924.29</td>\n",
       "      <td>67.9050</td>\n",
       "      <td>106.060</td>\n",
       "      <td>148.055</td>\n",
       "      <td>24000</td>\n",
       "      <td>2015-10-15 21:12:39</td>\n",
       "    </tr>\n",
       "  </tbody>\n",
       "</table>\n",
       "</div>"
      ],
      "text/plain": [
       "             credit_card  transaction_dollar_amount      25%      50%  \\\n",
       "95381   3929517687134990                     958.12  36.9475   60.615   \n",
       "136254  5098511582643613                     845.49  40.6800   68.430   \n",
       "207792  7198750113791865                     800.67  31.6800   48.310   \n",
       "186696  6497866359354370                     943.32  16.0300   24.850   \n",
       "293098  9946917923319410                     907.63  43.6100   76.230   \n",
       "105441  4172354071638301                     829.93  56.1050   89.710   \n",
       "114457  4339853010378399                     958.28  18.9450   30.670   \n",
       "178869  6239589776969686                     939.84  68.5800  105.090   \n",
       "177467  6216751190381521                     853.93  52.9400   87.440   \n",
       "207202  7193900293112316                     924.29  67.9050  106.060   \n",
       "\n",
       "            75%  credit_card_limit                date  \n",
       "95381    80.615              10000 2015-08-22 20:56:46  \n",
       "136254   94.280              14000 2015-10-13 02:17:09  \n",
       "207792   67.690               3000 2015-09-22 22:45:50  \n",
       "186696   34.475               5000 2015-10-29 21:23:29  \n",
       "293098  102.640              15000 2015-09-26 19:18:37  \n",
       "105441  127.345              25000 2015-08-18 23:38:49  \n",
       "114457   41.540              18000 2015-09-14 19:17:44  \n",
       "178869  145.460              20000 2015-08-20 22:28:11  \n",
       "177467  126.370              10000 2015-09-24 22:15:33  \n",
       "207202  148.055              24000 2015-10-15 21:12:39  "
      ]
     },
     "execution_count": 92,
     "metadata": {},
     "output_type": "execute_result"
    }
   ],
   "source": [
    "fraud = cc_limit_concat.loc[Xd.label==fraud_label, ['credit_card','transaction_dollar_amount','25%','50%','75%',\n",
    "                                                    'credit_card_limit','date']]\n",
    "\n",
    "fraud.sample(10)"
   ]
  },
  {
   "cell_type": "code",
   "execution_count": 95,
   "metadata": {},
   "outputs": [
    {
     "data": {
      "text/plain": [
       "<matplotlib.legend.Legend at 0x1237ed588>"
      ]
     },
     "execution_count": 95,
     "metadata": {},
     "output_type": "execute_result"
    },
    {
     "data": {
      "image/png": "[encoded data removed]",
      "text/plain": [
       "<Figure size 720x432 with 1 Axes>"
      ]
     },
     "metadata": {},
     "output_type": "display_data"
    }
   ],
   "source": [
    "labels = ['transaction_dollar_amount','75%']\n",
    "plt.hist(fraud.loc[:,labels].values,bins = 50,label = labels)\n",
    "plt.legend(loc = 'best')"
   ]
  },
  {
   "cell_type": "code",
   "execution_count": null,
   "metadata": {},
   "outputs": [],
   "source": [
    "### users transaction was suspicous as it is much higher than 75 percentile"
   ]
  },
  {
   "cell_type": "code",
   "execution_count": null,
   "metadata": {},
   "outputs": [],
   "source": []
  },
  {
   "cell_type": "code",
   "execution_count": null,
   "metadata": {},
   "outputs": [],
   "source": []
  }
 ],
 "metadata": {
  "kernelspec": {
   "display_name": "Python 3",
   "language": "python",
   "name": "python3"
  },
  "language_info": {
   "codemirror_mode": {
    "name": "ipython",
    "version": 3
   },
   "file_extension": ".py",
   "mimetype": "text/x-python",
   "name": "python",
   "nbconvert_exporter": "python",
   "pygments_lexer": "ipython3",
   "version": "3.7.2"
  }
 },
 "nbformat": 4,
 "nbformat_minor": 2
}
